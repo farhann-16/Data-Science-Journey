{
 "cells": [
  {
   "cell_type": "markdown",
   "id": "3cf8337e-59f2-49f4-a9aa-e0979dec4b47",
   "metadata": {},
   "source": [
    "# 🎓 Mini Project – Student Grades Analysis (Day 7)\n",
    "\n",
    "**Goal:**  \n",
    "- Practice working with CSV files and Pandas.  \n",
    "- We will load a dataset of student grades, calculate totals, averages, and perform basic analysis."
   ]
  },
  {
   "cell_type": "markdown",
   "id": "0afa8782-126f-43c4-a233-6a8bc800f9ad",
   "metadata": {},
   "source": [
    "# 1. Import Libraries"
   ]
  },
  {
   "cell_type": "code",
   "execution_count": 1,
   "id": "5844fc19-7ecf-4820-bc5c-435aac47e66e",
   "metadata": {},
   "outputs": [],
   "source": [
    "import pandas as pd"
   ]
  },
  {
   "cell_type": "markdown",
   "id": "279144e5-0f4f-473d-932b-c33eb2474cf1",
   "metadata": {},
   "source": [
    "# 2. Load Dataset"
   ]
  },
  {
   "cell_type": "code",
   "execution_count": 3,
   "id": "d02d2603-c351-48dd-9f48-59a986d5ea75",
   "metadata": {},
   "outputs": [
    {
     "data": {
      "text/html": [
       "<div>\n",
       "<style scoped>\n",
       "    .dataframe tbody tr th:only-of-type {\n",
       "        vertical-align: middle;\n",
       "    }\n",
       "\n",
       "    .dataframe tbody tr th {\n",
       "        vertical-align: top;\n",
       "    }\n",
       "\n",
       "    .dataframe thead th {\n",
       "        text-align: right;\n",
       "    }\n",
       "</style>\n",
       "<table border=\"1\" class=\"dataframe\">\n",
       "  <thead>\n",
       "    <tr style=\"text-align: right;\">\n",
       "      <th></th>\n",
       "      <th>Name</th>\n",
       "      <th>Math</th>\n",
       "      <th>Science</th>\n",
       "      <th>English</th>\n",
       "    </tr>\n",
       "  </thead>\n",
       "  <tbody>\n",
       "    <tr>\n",
       "      <th>0</th>\n",
       "      <td>Zeeshan</td>\n",
       "      <td>85</td>\n",
       "      <td>88</td>\n",
       "      <td>75</td>\n",
       "    </tr>\n",
       "    <tr>\n",
       "      <th>1</th>\n",
       "      <td>Samiya</td>\n",
       "      <td>90</td>\n",
       "      <td>76</td>\n",
       "      <td>85</td>\n",
       "    </tr>\n",
       "    <tr>\n",
       "      <th>2</th>\n",
       "      <td>Farhan</td>\n",
       "      <td>78</td>\n",
       "      <td>85</td>\n",
       "      <td>80</td>\n",
       "    </tr>\n",
       "    <tr>\n",
       "      <th>3</th>\n",
       "      <td>Dimple</td>\n",
       "      <td>88</td>\n",
       "      <td>90</td>\n",
       "      <td>70</td>\n",
       "    </tr>\n",
       "    <tr>\n",
       "      <th>4</th>\n",
       "      <td>Meera</td>\n",
       "      <td>92</td>\n",
       "      <td>95</td>\n",
       "      <td>88</td>\n",
       "    </tr>\n",
       "  </tbody>\n",
       "</table>\n",
       "</div>"
      ],
      "text/plain": [
       "      Name  Math  Science  English\n",
       "0  Zeeshan    85       88       75\n",
       "1   Samiya    90       76       85\n",
       "2   Farhan    78       85       80\n",
       "3   Dimple    88       90       70\n",
       "4    Meera    92       95       88"
      ]
     },
     "execution_count": 3,
     "metadata": {},
     "output_type": "execute_result"
    }
   ],
   "source": [
    "df = pd.read_csv(\"student_grades.csv\")\n",
    "df.head()"
   ]
  },
  {
   "cell_type": "markdown",
   "id": "f3234c9d-a759-442d-8adf-9503d50f72bb",
   "metadata": {},
   "source": [
    "# 3. Add Total & Average Score"
   ]
  },
  {
   "cell_type": "code",
   "execution_count": 4,
   "id": "e66a2723-ca54-4177-8f04-779230b5bceb",
   "metadata": {},
   "outputs": [
    {
     "data": {
      "text/html": [
       "<div>\n",
       "<style scoped>\n",
       "    .dataframe tbody tr th:only-of-type {\n",
       "        vertical-align: middle;\n",
       "    }\n",
       "\n",
       "    .dataframe tbody tr th {\n",
       "        vertical-align: top;\n",
       "    }\n",
       "\n",
       "    .dataframe thead th {\n",
       "        text-align: right;\n",
       "    }\n",
       "</style>\n",
       "<table border=\"1\" class=\"dataframe\">\n",
       "  <thead>\n",
       "    <tr style=\"text-align: right;\">\n",
       "      <th></th>\n",
       "      <th>Name</th>\n",
       "      <th>Math</th>\n",
       "      <th>Science</th>\n",
       "      <th>English</th>\n",
       "      <th>Total</th>\n",
       "      <th>Average</th>\n",
       "    </tr>\n",
       "  </thead>\n",
       "  <tbody>\n",
       "    <tr>\n",
       "      <th>0</th>\n",
       "      <td>Zeeshan</td>\n",
       "      <td>85</td>\n",
       "      <td>88</td>\n",
       "      <td>75</td>\n",
       "      <td>248</td>\n",
       "      <td>82.666667</td>\n",
       "    </tr>\n",
       "    <tr>\n",
       "      <th>1</th>\n",
       "      <td>Samiya</td>\n",
       "      <td>90</td>\n",
       "      <td>76</td>\n",
       "      <td>85</td>\n",
       "      <td>251</td>\n",
       "      <td>83.666667</td>\n",
       "    </tr>\n",
       "    <tr>\n",
       "      <th>2</th>\n",
       "      <td>Farhan</td>\n",
       "      <td>78</td>\n",
       "      <td>85</td>\n",
       "      <td>80</td>\n",
       "      <td>243</td>\n",
       "      <td>81.000000</td>\n",
       "    </tr>\n",
       "    <tr>\n",
       "      <th>3</th>\n",
       "      <td>Dimple</td>\n",
       "      <td>88</td>\n",
       "      <td>90</td>\n",
       "      <td>70</td>\n",
       "      <td>248</td>\n",
       "      <td>82.666667</td>\n",
       "    </tr>\n",
       "    <tr>\n",
       "      <th>4</th>\n",
       "      <td>Meera</td>\n",
       "      <td>92</td>\n",
       "      <td>95</td>\n",
       "      <td>88</td>\n",
       "      <td>275</td>\n",
       "      <td>91.666667</td>\n",
       "    </tr>\n",
       "    <tr>\n",
       "      <th>5</th>\n",
       "      <td>Jasmin</td>\n",
       "      <td>70</td>\n",
       "      <td>72</td>\n",
       "      <td>65</td>\n",
       "      <td>207</td>\n",
       "      <td>69.000000</td>\n",
       "    </tr>\n",
       "    <tr>\n",
       "      <th>6</th>\n",
       "      <td>Raj</td>\n",
       "      <td>65</td>\n",
       "      <td>60</td>\n",
       "      <td>68</td>\n",
       "      <td>193</td>\n",
       "      <td>64.333333</td>\n",
       "    </tr>\n",
       "    <tr>\n",
       "      <th>7</th>\n",
       "      <td>Priya</td>\n",
       "      <td>80</td>\n",
       "      <td>82</td>\n",
       "      <td>90</td>\n",
       "      <td>252</td>\n",
       "      <td>84.000000</td>\n",
       "    </tr>\n",
       "  </tbody>\n",
       "</table>\n",
       "</div>"
      ],
      "text/plain": [
       "      Name  Math  Science  English  Total    Average\n",
       "0  Zeeshan    85       88       75    248  82.666667\n",
       "1   Samiya    90       76       85    251  83.666667\n",
       "2   Farhan    78       85       80    243  81.000000\n",
       "3   Dimple    88       90       70    248  82.666667\n",
       "4    Meera    92       95       88    275  91.666667\n",
       "5   Jasmin    70       72       65    207  69.000000\n",
       "6      Raj    65       60       68    193  64.333333\n",
       "7    Priya    80       82       90    252  84.000000"
      ]
     },
     "execution_count": 4,
     "metadata": {},
     "output_type": "execute_result"
    }
   ],
   "source": [
    "df[\"Total\"] = df[[\"Math\", \"Science\", \"English\"]].sum(axis=1)\n",
    "df[\"Average\"] = df[[\"Math\", \"Science\", \"English\"]].mean(axis=1)\n",
    "df"
   ]
  },
  {
   "cell_type": "markdown",
   "id": "eabc7d14-fffd-4155-b859-55cf616d8e61",
   "metadata": {},
   "source": [
    "# 4. Descriptive Statistics"
   ]
  },
  {
   "cell_type": "code",
   "execution_count": 5,
   "id": "a3fa18cf-5fa7-441b-92cb-56bf900b661a",
   "metadata": {},
   "outputs": [
    {
     "name": "stdout",
     "output_type": "stream",
     "text": [
      "Summary Statistics:\n",
      "             Math    Science    English       Total    Average\n",
      "count   8.000000   8.000000   8.000000    8.000000   8.000000\n",
      "mean   81.000000  81.000000  77.625000  239.625000  79.875000\n",
      "std     9.665846  11.275764   9.545942   26.521891   8.840630\n",
      "min    65.000000  60.000000  65.000000  193.000000  64.333333\n",
      "25%    76.000000  75.000000  69.500000  234.000000  78.000000\n",
      "50%    82.500000  83.500000  77.500000  248.000000  82.666667\n",
      "75%    88.500000  88.500000  85.750000  251.250000  83.750000\n",
      "max    92.000000  95.000000  90.000000  275.000000  91.666667\n"
     ]
    }
   ],
   "source": [
    "print(\"Summary Statistics:\\n\", df.describe())"
   ]
  },
  {
   "cell_type": "markdown",
   "id": "b48d4404-2ee6-4f2d-b8bc-5b558e58122f",
   "metadata": {},
   "source": [
    "# 5. Find Top & Lowest Performers"
   ]
  },
  {
   "cell_type": "code",
   "execution_count": 6,
   "id": "c88ec517-1d41-49d7-beb0-7c8d0234be72",
   "metadata": {},
   "outputs": [
    {
     "name": "stdout",
     "output_type": "stream",
     "text": [
      "Top Performer:\n",
      " Name           Meera\n",
      "Math              92\n",
      "Science           95\n",
      "English           88\n",
      "Total            275\n",
      "Average    91.666667\n",
      "Name: 4, dtype: object\n",
      "\n",
      "Lowest Performer:\n",
      " Name             Raj\n",
      "Math              65\n",
      "Science           60\n",
      "English           68\n",
      "Total            193\n",
      "Average    64.333333\n",
      "Name: 6, dtype: object\n"
     ]
    }
   ],
   "source": [
    "top_student = df.loc[df[\"Average\"].idxmax()]\n",
    "lowest_student = df.loc[df[\"Average\"].idxmin()]\n",
    "\n",
    "print(\"Top Performer:\\n\", top_student)\n",
    "print(\"\\nLowest Performer:\\n\", lowest_student)"
   ]
  },
  {
   "cell_type": "markdown",
   "id": "d2b398f2-9a24-4044-88a3-89c7a27bedd2",
   "metadata": {},
   "source": [
    "# 6. Ranking Students"
   ]
  },
  {
   "cell_type": "code",
   "execution_count": 7,
   "id": "c63b434b-f108-4cb3-bae4-bae4104ccacf",
   "metadata": {},
   "outputs": [
    {
     "data": {
      "text/html": [
       "<div>\n",
       "<style scoped>\n",
       "    .dataframe tbody tr th:only-of-type {\n",
       "        vertical-align: middle;\n",
       "    }\n",
       "\n",
       "    .dataframe tbody tr th {\n",
       "        vertical-align: top;\n",
       "    }\n",
       "\n",
       "    .dataframe thead th {\n",
       "        text-align: right;\n",
       "    }\n",
       "</style>\n",
       "<table border=\"1\" class=\"dataframe\">\n",
       "  <thead>\n",
       "    <tr style=\"text-align: right;\">\n",
       "      <th></th>\n",
       "      <th>Name</th>\n",
       "      <th>Math</th>\n",
       "      <th>Science</th>\n",
       "      <th>English</th>\n",
       "      <th>Total</th>\n",
       "      <th>Average</th>\n",
       "    </tr>\n",
       "  </thead>\n",
       "  <tbody>\n",
       "    <tr>\n",
       "      <th>4</th>\n",
       "      <td>Meera</td>\n",
       "      <td>92</td>\n",
       "      <td>95</td>\n",
       "      <td>88</td>\n",
       "      <td>275</td>\n",
       "      <td>91.666667</td>\n",
       "    </tr>\n",
       "    <tr>\n",
       "      <th>7</th>\n",
       "      <td>Priya</td>\n",
       "      <td>80</td>\n",
       "      <td>82</td>\n",
       "      <td>90</td>\n",
       "      <td>252</td>\n",
       "      <td>84.000000</td>\n",
       "    </tr>\n",
       "    <tr>\n",
       "      <th>1</th>\n",
       "      <td>Samiya</td>\n",
       "      <td>90</td>\n",
       "      <td>76</td>\n",
       "      <td>85</td>\n",
       "      <td>251</td>\n",
       "      <td>83.666667</td>\n",
       "    </tr>\n",
       "    <tr>\n",
       "      <th>0</th>\n",
       "      <td>Zeeshan</td>\n",
       "      <td>85</td>\n",
       "      <td>88</td>\n",
       "      <td>75</td>\n",
       "      <td>248</td>\n",
       "      <td>82.666667</td>\n",
       "    </tr>\n",
       "    <tr>\n",
       "      <th>3</th>\n",
       "      <td>Dimple</td>\n",
       "      <td>88</td>\n",
       "      <td>90</td>\n",
       "      <td>70</td>\n",
       "      <td>248</td>\n",
       "      <td>82.666667</td>\n",
       "    </tr>\n",
       "    <tr>\n",
       "      <th>2</th>\n",
       "      <td>Farhan</td>\n",
       "      <td>78</td>\n",
       "      <td>85</td>\n",
       "      <td>80</td>\n",
       "      <td>243</td>\n",
       "      <td>81.000000</td>\n",
       "    </tr>\n",
       "    <tr>\n",
       "      <th>5</th>\n",
       "      <td>Jasmin</td>\n",
       "      <td>70</td>\n",
       "      <td>72</td>\n",
       "      <td>65</td>\n",
       "      <td>207</td>\n",
       "      <td>69.000000</td>\n",
       "    </tr>\n",
       "    <tr>\n",
       "      <th>6</th>\n",
       "      <td>Raj</td>\n",
       "      <td>65</td>\n",
       "      <td>60</td>\n",
       "      <td>68</td>\n",
       "      <td>193</td>\n",
       "      <td>64.333333</td>\n",
       "    </tr>\n",
       "  </tbody>\n",
       "</table>\n",
       "</div>"
      ],
      "text/plain": [
       "      Name  Math  Science  English  Total    Average\n",
       "4    Meera    92       95       88    275  91.666667\n",
       "7    Priya    80       82       90    252  84.000000\n",
       "1   Samiya    90       76       85    251  83.666667\n",
       "0  Zeeshan    85       88       75    248  82.666667\n",
       "3   Dimple    88       90       70    248  82.666667\n",
       "2   Farhan    78       85       80    243  81.000000\n",
       "5   Jasmin    70       72       65    207  69.000000\n",
       "6      Raj    65       60       68    193  64.333333"
      ]
     },
     "execution_count": 7,
     "metadata": {},
     "output_type": "execute_result"
    }
   ],
   "source": [
    "df_sorted = df.sort_values(by=\"Average\", ascending=False)\n",
    "df_sorted"
   ]
  },
  {
   "cell_type": "markdown",
   "id": "94ff13dc-d0af-4262-99d0-a501ee318756",
   "metadata": {},
   "source": [
    "# ✅ Summary (Day 7 – Mini Project):\n",
    "\n",
    "- Loaded student grades dataset from CSV\n",
    "- Added total & average marks per student\n",
    "- Generated summary statistics\n",
    "- Identified top & lowest performers\n",
    "- Ranked students by average score\n",
    "- Applied CSV handling + Pandas basics 🎉"
   ]
  },
  {
   "cell_type": "code",
   "execution_count": null,
   "id": "32db7db1-5fde-430a-8481-aa047f96bd0c",
   "metadata": {},
   "outputs": [],
   "source": []
  }
 ],
 "metadata": {
  "kernelspec": {
   "display_name": "Python 3 (ipykernel)",
   "language": "python",
   "name": "python3"
  },
  "language_info": {
   "codemirror_mode": {
    "name": "ipython",
    "version": 3
   },
   "file_extension": ".py",
   "mimetype": "text/x-python",
   "name": "python",
   "nbconvert_exporter": "python",
   "pygments_lexer": "ipython3",
   "version": "3.13.5"
  }
 },
 "nbformat": 4,
 "nbformat_minor": 5
}
