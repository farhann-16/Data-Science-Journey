{
 "cells": [
  {
   "cell_type": "markdown",
   "id": "8ca3b636-1ce5-4100-aa3b-72a4b277ec34",
   "metadata": {},
   "source": [
    "# 🔬 Hypothesis Testing (Day 21)\n",
    "\n",
    "**Goal:**  \n",
    "Understand hypothesis testing using Python.  \n",
    "We will cover:  \n",
    "- Null & Alternative Hypothesis  \n",
    "- p-value and significance level (α)  \n",
    "- One-sample t-test  \n",
    "- Two-sample t-test (before vs after training scores)  "
   ]
  },
  {
   "cell_type": "markdown",
   "id": "f4cfc411-7d3c-4eb7-b6a1-d2507767dd40",
   "metadata": {},
   "source": [
    "# 1. Import Libraries"
   ]
  },
  {
   "cell_type": "code",
   "execution_count": 1,
   "id": "b6d85b47-39f8-4e2d-bfa9-680fd4ad7a24",
   "metadata": {},
   "outputs": [],
   "source": [
    "import numpy as np\n",
    "from scipy import stats"
   ]
  },
  {
   "cell_type": "markdown",
   "id": "f9a5c631-45b8-4931-a9b3-78edabde8931",
   "metadata": {},
   "source": [
    "# 2. Refresher – What is Hypothesis Testing?\n",
    "\n",
    "- Null Hypothesis (H₀): No effect / no difference\n",
    "- Alternative Hypothesis (H₁): There is an effect / difference\n",
    "- p-value: Probability of observing the result if H₀ is true\n",
    "- If p < α (0.05) → Reject H₀"
   ]
  },
  {
   "cell_type": "markdown",
   "id": "100cbd2b-e059-4d64-a0d6-0bc345883c07",
   "metadata": {},
   "source": [
    "# 3. Example 1 – One-Sample t-test"
   ]
  },
  {
   "cell_type": "code",
   "execution_count": 2,
   "id": "6a95b7d5-b2d4-4f81-a45f-89daf62f7534",
   "metadata": {},
   "outputs": [
    {
     "name": "stdout",
     "output_type": "stream",
     "text": [
      "t-statistic = 3.1290907291430163\n",
      "p-value = 0.01213947137671831\n",
      "Reject Null Hypothesis → Scores are significantly different from 70\n"
     ]
    }
   ],
   "source": [
    "scores = [72, 75, 78, 71, 69, 74, 73, 76, 77, 68]\n",
    "\n",
    "t_stat, p_val = stats.ttest_1samp(scores, 70)\n",
    "\n",
    "print(\"t-statistic =\", t_stat)\n",
    "print(\"p-value =\", p_val)\n",
    "\n",
    "if p_val < 0.05:\n",
    "    print(\"Reject Null Hypothesis → Scores are significantly different from 70\")\n",
    "else:\n",
    "    print(\"Fail to Reject Null Hypothesis → No significant difference\")"
   ]
  },
  {
   "cell_type": "markdown",
   "id": "8d1a0308-bf6e-4daf-b4dc-8b66bcadf9a8",
   "metadata": {},
   "source": [
    "# 4. Example 2 – Two-Sample t-test (Before vs After Training)"
   ]
  },
  {
   "cell_type": "code",
   "execution_count": 3,
   "id": "6a608127-fbe6-4ca8-b306-1bf573000da8",
   "metadata": {},
   "outputs": [
    {
     "name": "stdout",
     "output_type": "stream",
     "text": [
      "t-statistic = -6.616378963469022\n",
      "p-value = 3.270096660533546e-06\n",
      "Reject Null Hypothesis → Training had a significant effect\n"
     ]
    }
   ],
   "source": [
    "before = [65, 70, 68, 72, 66, 71, 69, 67, 70, 68]\n",
    "after  = [72, 74, 75, 78, 73, 76, 74, 77, 75, 73]\n",
    "\n",
    "t_stat, p_val = stats.ttest_ind(before, after)\n",
    "\n",
    "print(\"t-statistic =\", t_stat)\n",
    "print(\"p-value =\", p_val)\n",
    "\n",
    "if p_val < 0.05:\n",
    "    print(\"Reject Null Hypothesis → Training had a significant effect\")\n",
    "else:\n",
    "    print(\"Fail to Reject Null Hypothesis → No significant effect\")"
   ]
  },
  {
   "cell_type": "markdown",
   "id": "c4f6ed3f-255f-48db-9e78-fca06e3a980c",
   "metadata": {},
   "source": [
    "# 5. Interpretation\n",
    "\n",
    "- If p < 0.05, result is statistically significant\n",
    "- Otherwise, we don’t have enough evidence to reject H₀"
   ]
  },
  {
   "cell_type": "markdown",
   "id": "3ab32253-0b4c-46bc-91da-f0f15ea5e9cb",
   "metadata": {},
   "source": [
    "# ✅ Summary (Day 21 – Hypothesis Testing):\n",
    "\n",
    "- Learned Null & Alternative Hypotheses\n",
    "- Used p-value & significance level (α = 0.05)\n",
    "- One-sample test: Check against a known value\n",
    "- Two-sample test: Compare two groups (before vs after training)\n",
    "- Practical conclusion: We can statistically test improvements or differences"
   ]
  },
  {
   "cell_type": "code",
   "execution_count": null,
   "id": "0667ad51-8d41-4e87-b13a-0b3a75c88a07",
   "metadata": {},
   "outputs": [],
   "source": []
  }
 ],
 "metadata": {
  "kernelspec": {
   "display_name": "Python 3 (ipykernel)",
   "language": "python",
   "name": "python3"
  },
  "language_info": {
   "codemirror_mode": {
    "name": "ipython",
    "version": 3
   },
   "file_extension": ".py",
   "mimetype": "text/x-python",
   "name": "python",
   "nbconvert_exporter": "python",
   "pygments_lexer": "ipython3",
   "version": "3.13.5"
  }
 },
 "nbformat": 4,
 "nbformat_minor": 5
}
