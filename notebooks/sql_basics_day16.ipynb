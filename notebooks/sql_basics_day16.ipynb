{
 "cells": [
  {
   "cell_type": "markdown",
   "id": "edd49501-a97b-4e79-bcce-8a05a9fe3f9e",
   "metadata": {},
   "source": [
    "# 🗄️ SQL Basics with SQLite (Day 16 – Part 2)\n",
    "\n",
    "**Goal:**  \n",
    "Extend SQL knowledge with:  \n",
    "- JOIN operations (INNER, LEFT)  \n",
    "- Combining data from multiple tables  \n",
    "- More practice with filtering  "
   ]
  },
  {
   "cell_type": "markdown",
   "id": "5f02aebf-df2f-409e-8623-cf4ddc6fbfe2",
   "metadata": {},
   "source": [
    " # 1. Import SQLite & Setup (same as Day 15)"
   ]
  },
  {
   "cell_type": "code",
   "execution_count": 1,
   "id": "e4d67a0a-7a58-4016-b982-b0c7e8b66dff",
   "metadata": {},
   "outputs": [],
   "source": [
    "import sqlite3\n",
    "import pandas as pd\n",
    "\n",
    "# Create new in-memory database\n",
    "conn = sqlite3.connect(\":memory:\")\n",
    "cursor = conn.cursor()"
   ]
  },
  {
   "cell_type": "markdown",
   "id": "ce29ef89-3bce-42d7-a415-0e9150336c22",
   "metadata": {},
   "source": [
    "# 2. Create Tables"
   ]
  },
  {
   "cell_type": "code",
   "execution_count": 2,
   "id": "538f7c67-32ac-4ad6-b7d5-0301bd8cb954",
   "metadata": {},
   "outputs": [
    {
     "data": {
      "text/plain": [
       "<sqlite3.Cursor at 0x22b7f698440>"
      ]
     },
     "execution_count": 2,
     "metadata": {},
     "output_type": "execute_result"
    }
   ],
   "source": [
    "cursor.execute(\"\"\"\n",
    "CREATE TABLE students (\n",
    "    student_id INTEGER PRIMARY KEY,\n",
    "    name TEXT,\n",
    "    age INTEGER,\n",
    "    major TEXT\n",
    ")\n",
    "\"\"\")\n",
    "\n",
    "cursor.execute(\"\"\"\n",
    "CREATE TABLE courses (\n",
    "    course_id INTEGER PRIMARY KEY,\n",
    "    course_name TEXT,\n",
    "    credits INTEGER\n",
    ")\n",
    "\"\"\")\n",
    "\n",
    "cursor.execute(\"\"\"\n",
    "CREATE TABLE enrollments (\n",
    "    enrollment_id INTEGER PRIMARY KEY,\n",
    "    student_id INTEGER,\n",
    "    course_id INTEGER,\n",
    "    grade TEXT,\n",
    "    FOREIGN KEY(student_id) REFERENCES students(student_id),\n",
    "    FOREIGN KEY(course_id) REFERENCES courses(course_id)\n",
    ")\n",
    "\"\"\")"
   ]
  },
  {
   "cell_type": "markdown",
   "id": "b067c9a9-a0b0-4c78-bbef-2301a2ab8aa3",
   "metadata": {},
   "source": [
    "# 3. Insert Sample Data"
   ]
  },
  {
   "cell_type": "code",
   "execution_count": 3,
   "id": "093335fe-394e-4963-8a95-2a991056f1ed",
   "metadata": {},
   "outputs": [],
   "source": [
    "students_data = [\n",
    "    (1, \"Ali\", 21, \"Computer Science\"),\n",
    "    (2, \"Sara\", 22, \"Information Tech\"),\n",
    "    (3, \"Farhan\", 20, \"Mathematics\"),\n",
    "    (4, \"Meera\", 23, \"Statistics\")\n",
    "]\n",
    "\n",
    "courses_data = [\n",
    "    (101, \"Database Systems\", 3),\n",
    "    (102, \"Machine Learning\", 4),\n",
    "    (103, \"Probability & Stats\", 3)\n",
    "]\n",
    "\n",
    "enrollments_data = [\n",
    "    (1, 1, 101, \"A\"),\n",
    "    (2, 1, 102, \"B\"),\n",
    "    (3, 2, 101, \"A\"),\n",
    "    (4, 3, 103, \"B\"),\n",
    "    (5, 4, 102, \"A\")\n",
    "]\n",
    "\n",
    "cursor.executemany(\"INSERT INTO students VALUES (?, ?, ?, ?)\", students_data)\n",
    "cursor.executemany(\"INSERT INTO courses VALUES (?, ?, ?)\", courses_data)\n",
    "cursor.executemany(\"INSERT INTO enrollments VALUES (?, ?, ?, ?)\", enrollments_data)\n",
    "conn.commit()"
   ]
  },
  {
   "cell_type": "markdown",
   "id": "ec5ef63a-7c61-4220-b3f3-7a587eb37ae8",
   "metadata": {},
   "source": [
    "# 4. INNER JOIN Example"
   ]
  },
  {
   "cell_type": "code",
   "execution_count": 5,
   "id": "eeb4673c-6810-44c9-a639-196c874d18c4",
   "metadata": {},
   "outputs": [
    {
     "data": {
      "text/html": [
       "<div>\n",
       "<style scoped>\n",
       "    .dataframe tbody tr th:only-of-type {\n",
       "        vertical-align: middle;\n",
       "    }\n",
       "\n",
       "    .dataframe tbody tr th {\n",
       "        vertical-align: top;\n",
       "    }\n",
       "\n",
       "    .dataframe thead th {\n",
       "        text-align: right;\n",
       "    }\n",
       "</style>\n",
       "<table border=\"1\" class=\"dataframe\">\n",
       "  <thead>\n",
       "    <tr style=\"text-align: right;\">\n",
       "      <th></th>\n",
       "      <th>name</th>\n",
       "      <th>course_name</th>\n",
       "      <th>grade</th>\n",
       "    </tr>\n",
       "  </thead>\n",
       "  <tbody>\n",
       "    <tr>\n",
       "      <th>0</th>\n",
       "      <td>Ali</td>\n",
       "      <td>Database Systems</td>\n",
       "      <td>A</td>\n",
       "    </tr>\n",
       "    <tr>\n",
       "      <th>1</th>\n",
       "      <td>Ali</td>\n",
       "      <td>Machine Learning</td>\n",
       "      <td>B</td>\n",
       "    </tr>\n",
       "    <tr>\n",
       "      <th>2</th>\n",
       "      <td>Sara</td>\n",
       "      <td>Database Systems</td>\n",
       "      <td>A</td>\n",
       "    </tr>\n",
       "    <tr>\n",
       "      <th>3</th>\n",
       "      <td>Farhan</td>\n",
       "      <td>Probability &amp; Stats</td>\n",
       "      <td>B</td>\n",
       "    </tr>\n",
       "    <tr>\n",
       "      <th>4</th>\n",
       "      <td>Meera</td>\n",
       "      <td>Machine Learning</td>\n",
       "      <td>A</td>\n",
       "    </tr>\n",
       "  </tbody>\n",
       "</table>\n",
       "</div>"
      ],
      "text/plain": [
       "     name          course_name grade\n",
       "0     Ali     Database Systems     A\n",
       "1     Ali     Machine Learning     B\n",
       "2    Sara     Database Systems     A\n",
       "3  Farhan  Probability & Stats     B\n",
       "4   Meera     Machine Learning     A"
      ]
     },
     "execution_count": 5,
     "metadata": {},
     "output_type": "execute_result"
    }
   ],
   "source": [
    "query = \"\"\"\n",
    "SELECT s.name, c.course_name, e.grade\n",
    "FROM enrollments e\n",
    "JOIN students s ON e.student_id = s.student_id\n",
    "JOIN courses c ON e.course_id = c.course_id\n",
    "\"\"\"\n",
    "pd.read_sql(query, conn)"
   ]
  },
  {
   "cell_type": "markdown",
   "id": "f31817dd-8ae6-45d4-b7ec-abbb786c3296",
   "metadata": {},
   "source": [
    "# 5. LEFT JOIN Example"
   ]
  },
  {
   "cell_type": "code",
   "execution_count": 6,
   "id": "ff2c4b5b-9b1c-4f19-b16c-2be3d51e1597",
   "metadata": {},
   "outputs": [
    {
     "data": {
      "text/html": [
       "<div>\n",
       "<style scoped>\n",
       "    .dataframe tbody tr th:only-of-type {\n",
       "        vertical-align: middle;\n",
       "    }\n",
       "\n",
       "    .dataframe tbody tr th {\n",
       "        vertical-align: top;\n",
       "    }\n",
       "\n",
       "    .dataframe thead th {\n",
       "        text-align: right;\n",
       "    }\n",
       "</style>\n",
       "<table border=\"1\" class=\"dataframe\">\n",
       "  <thead>\n",
       "    <tr style=\"text-align: right;\">\n",
       "      <th></th>\n",
       "      <th>name</th>\n",
       "      <th>course_name</th>\n",
       "      <th>grade</th>\n",
       "    </tr>\n",
       "  </thead>\n",
       "  <tbody>\n",
       "    <tr>\n",
       "      <th>0</th>\n",
       "      <td>Ali</td>\n",
       "      <td>Database Systems</td>\n",
       "      <td>A</td>\n",
       "    </tr>\n",
       "    <tr>\n",
       "      <th>1</th>\n",
       "      <td>Ali</td>\n",
       "      <td>Machine Learning</td>\n",
       "      <td>B</td>\n",
       "    </tr>\n",
       "    <tr>\n",
       "      <th>2</th>\n",
       "      <td>Sara</td>\n",
       "      <td>Database Systems</td>\n",
       "      <td>A</td>\n",
       "    </tr>\n",
       "    <tr>\n",
       "      <th>3</th>\n",
       "      <td>Farhan</td>\n",
       "      <td>Probability &amp; Stats</td>\n",
       "      <td>B</td>\n",
       "    </tr>\n",
       "    <tr>\n",
       "      <th>4</th>\n",
       "      <td>Meera</td>\n",
       "      <td>Machine Learning</td>\n",
       "      <td>A</td>\n",
       "    </tr>\n",
       "  </tbody>\n",
       "</table>\n",
       "</div>"
      ],
      "text/plain": [
       "     name          course_name grade\n",
       "0     Ali     Database Systems     A\n",
       "1     Ali     Machine Learning     B\n",
       "2    Sara     Database Systems     A\n",
       "3  Farhan  Probability & Stats     B\n",
       "4   Meera     Machine Learning     A"
      ]
     },
     "execution_count": 6,
     "metadata": {},
     "output_type": "execute_result"
    }
   ],
   "source": [
    "query = \"\"\"\n",
    "SELECT s.name, c.course_name, e.grade\n",
    "FROM students s\n",
    "LEFT JOIN enrollments e ON s.student_id = e.student_id\n",
    "LEFT JOIN courses c ON e.course_id = c.course_id\n",
    "\"\"\"\n",
    "pd.read_sql(query, conn)"
   ]
  },
  {
   "cell_type": "markdown",
   "id": "fb21689c-8840-4d0b-a770-217196bdce73",
   "metadata": {},
   "source": [
    "# 6. Filtering with JOIN"
   ]
  },
  {
   "cell_type": "code",
   "execution_count": 7,
   "id": "c24fbc78-e772-4626-ae8f-bbf64c8e8b96",
   "metadata": {},
   "outputs": [
    {
     "data": {
      "text/html": [
       "<div>\n",
       "<style scoped>\n",
       "    .dataframe tbody tr th:only-of-type {\n",
       "        vertical-align: middle;\n",
       "    }\n",
       "\n",
       "    .dataframe tbody tr th {\n",
       "        vertical-align: top;\n",
       "    }\n",
       "\n",
       "    .dataframe thead th {\n",
       "        text-align: right;\n",
       "    }\n",
       "</style>\n",
       "<table border=\"1\" class=\"dataframe\">\n",
       "  <thead>\n",
       "    <tr style=\"text-align: right;\">\n",
       "      <th></th>\n",
       "      <th>name</th>\n",
       "      <th>course_name</th>\n",
       "      <th>grade</th>\n",
       "    </tr>\n",
       "  </thead>\n",
       "  <tbody>\n",
       "    <tr>\n",
       "      <th>0</th>\n",
       "      <td>Ali</td>\n",
       "      <td>Database Systems</td>\n",
       "      <td>A</td>\n",
       "    </tr>\n",
       "    <tr>\n",
       "      <th>1</th>\n",
       "      <td>Sara</td>\n",
       "      <td>Database Systems</td>\n",
       "      <td>A</td>\n",
       "    </tr>\n",
       "    <tr>\n",
       "      <th>2</th>\n",
       "      <td>Meera</td>\n",
       "      <td>Machine Learning</td>\n",
       "      <td>A</td>\n",
       "    </tr>\n",
       "  </tbody>\n",
       "</table>\n",
       "</div>"
      ],
      "text/plain": [
       "    name       course_name grade\n",
       "0    Ali  Database Systems     A\n",
       "1   Sara  Database Systems     A\n",
       "2  Meera  Machine Learning     A"
      ]
     },
     "execution_count": 7,
     "metadata": {},
     "output_type": "execute_result"
    }
   ],
   "source": [
    "query = \"\"\"\n",
    "SELECT s.name, c.course_name, e.grade\n",
    "FROM enrollments e\n",
    "JOIN students s ON e.student_id = s.student_id\n",
    "JOIN courses c ON e.course_id = c.course_id\n",
    "WHERE e.grade = 'A'\n",
    "\"\"\"\n",
    "pd.read_sql(query, conn)"
   ]
  },
  {
   "cell_type": "markdown",
   "id": "cf7d8346-b524-4856-8b92-9f6d765e0a11",
   "metadata": {},
   "source": [
    "# ✅ Summary (Day 16 – Part 2):\n",
    "\n",
    "- Created enrollments table to connect students & courses\n",
    "- Practiced INNER JOIN and LEFT JOIN\n",
    "- Combined data across multiple tables\n",
    "- Filtered joined results (WHERE grade = 'A')"
   ]
  },
  {
   "cell_type": "code",
   "execution_count": null,
   "id": "64553099-612d-4f7a-9770-40746c6ec4db",
   "metadata": {},
   "outputs": [],
   "source": []
  }
 ],
 "metadata": {
  "kernelspec": {
   "display_name": "Python 3 (ipykernel)",
   "language": "python",
   "name": "python3"
  },
  "language_info": {
   "codemirror_mode": {
    "name": "ipython",
    "version": 3
   },
   "file_extension": ".py",
   "mimetype": "text/x-python",
   "name": "python",
   "nbconvert_exporter": "python",
   "pygments_lexer": "ipython3",
   "version": "3.13.5"
  }
 },
 "nbformat": 4,
 "nbformat_minor": 5
}
