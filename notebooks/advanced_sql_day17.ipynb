{
 "cells": [
  {
   "cell_type": "markdown",
   "id": "88dc0716-b10a-41e7-8e59-7758fe06ace8",
   "metadata": {},
   "source": [
    "# 🗄️ Advanced SQL – Day 17 (GROUP BY & Aggregates)\n",
    "\n",
    "**Goal:**  \n",
    "Learn how to summarize and analyze data with:  \n",
    "- Aggregate functions (`COUNT`, `AVG`, `MAX`, `MIN`)  \n",
    "- GROUP BY  \n",
    "- HAVING clause  "
   ]
  },
  {
   "cell_type": "markdown",
   "id": "afb84707-47c0-4fc3-98d0-b0719ff6f204",
   "metadata": {},
   "source": [
    "#  1. Setup (same database as before)"
   ]
  },
  {
   "cell_type": "code",
   "execution_count": 12,
   "id": "30cf951d-ab42-41cb-8554-98308c84147d",
   "metadata": {},
   "outputs": [],
   "source": [
    "import sqlite3\n",
    "import pandas as pd\n",
    "\n",
    "conn = sqlite3.connect(\":memory:\")\n",
    "cursor = conn.cursor()"
   ]
  },
  {
   "cell_type": "markdown",
   "id": "bc799c0b-40f9-4fec-9922-2a7fe7228898",
   "metadata": {},
   "source": [
    "# 2. Create Tables Again"
   ]
  },
  {
   "cell_type": "code",
   "execution_count": 13,
   "id": "056d2a67-12bb-40bc-8f42-e47103fe6a0a",
   "metadata": {},
   "outputs": [
    {
     "data": {
      "text/plain": [
       "<sqlite3.Cursor at 0x16a5ef2bd40>"
      ]
     },
     "execution_count": 13,
     "metadata": {},
     "output_type": "execute_result"
    }
   ],
   "source": [
    "cursor.execute(\"\"\"\n",
    "CREATE TABLE students (\n",
    "    student_id INTEGER PRIMARY KEY,\n",
    "    name TEXT,\n",
    "    age INTEGER,\n",
    "    major TEXT\n",
    ")\n",
    "\"\"\")\n",
    "\n",
    "cursor.execute(\"\"\"\n",
    "CREATE TABLE courses (\n",
    "    course_id INTEGER PRIMARY KEY,\n",
    "    course_name TEXT,\n",
    "    credits INTEGER\n",
    ")\n",
    "\"\"\")\n",
    "\n",
    "cursor.execute(\"\"\"\n",
    "CREATE TABLE enrollments (\n",
    "    enrollment_id INTEGER PRIMARY KEY,\n",
    "    student_id INTEGER,\n",
    "    course_id INTEGER,\n",
    "    grade TEXT,\n",
    "    FOREIGN KEY(student_id) REFERENCES students(student_id),\n",
    "    FOREIGN KEY(course_id) REFERENCES courses(course_id)\n",
    ")\n",
    "\"\"\")"
   ]
  },
  {
   "cell_type": "markdown",
   "id": "3d352ba4-a738-4528-9adb-80fac8e5cb59",
   "metadata": {},
   "source": [
    "# 3. Insert Data"
   ]
  },
  {
   "cell_type": "code",
   "execution_count": 14,
   "id": "a6af3add-9ce4-4721-a073-cfe8c42614df",
   "metadata": {},
   "outputs": [],
   "source": [
    "students_data = [\n",
    "    (1, \"Zeeshan\", 21, \"Computer Science\"),\n",
    "    (2, \"Samiya\", 22, \"Information Tech\"),\n",
    "    (3, \"Farhan\", 20, \"Mathematics\"),\n",
    "    (4, \"Meera\", 23, \"Statistics\")\n",
    "]\n",
    "\n",
    "courses_data = [\n",
    "    (101, \"Database Systems\", 3),\n",
    "    (102, \"Machine Learning\", 4),\n",
    "    (103, \"Probability & Stats\", 3)\n",
    "]\n",
    "\n",
    "enrollments_data = [\n",
    "    (1, 1, 101, \"A\"),\n",
    "    (2, 1, 102, \"B\"),\n",
    "    (3, 2, 101, \"A\"),\n",
    "    (4, 3, 103, \"B\"),\n",
    "    (5, 4, 102, \"A\"),\n",
    "    (6, 4, 103, \"A\")\n",
    "]\n",
    "\n",
    "cursor.executemany(\"INSERT INTO students VALUES (?, ?, ?, ?)\", students_data)\n",
    "cursor.executemany(\"INSERT INTO courses VALUES (?, ?, ?)\", courses_data)\n",
    "cursor.executemany(\"INSERT INTO enrollments VALUES (?, ?, ?, ?)\", enrollments_data)\n",
    "conn.commit()\n"
   ]
  },
  {
   "cell_type": "markdown",
   "id": "b65944a4-12cf-4fb1-9286-0cfcf5900c24",
   "metadata": {},
   "source": [
    "# 4. COUNT – How Many Students per Course?"
   ]
  },
  {
   "cell_type": "code",
   "execution_count": 15,
   "id": "00d0cbc5-898d-4662-ab01-353bb2fb9543",
   "metadata": {},
   "outputs": [
    {
     "data": {
      "text/html": [
       "<div>\n",
       "<style scoped>\n",
       "    .dataframe tbody tr th:only-of-type {\n",
       "        vertical-align: middle;\n",
       "    }\n",
       "\n",
       "    .dataframe tbody tr th {\n",
       "        vertical-align: top;\n",
       "    }\n",
       "\n",
       "    .dataframe thead th {\n",
       "        text-align: right;\n",
       "    }\n",
       "</style>\n",
       "<table border=\"1\" class=\"dataframe\">\n",
       "  <thead>\n",
       "    <tr style=\"text-align: right;\">\n",
       "      <th></th>\n",
       "      <th>course_name</th>\n",
       "      <th>total_students</th>\n",
       "    </tr>\n",
       "  </thead>\n",
       "  <tbody>\n",
       "    <tr>\n",
       "      <th>0</th>\n",
       "      <td>Database Systems</td>\n",
       "      <td>2</td>\n",
       "    </tr>\n",
       "    <tr>\n",
       "      <th>1</th>\n",
       "      <td>Machine Learning</td>\n",
       "      <td>2</td>\n",
       "    </tr>\n",
       "    <tr>\n",
       "      <th>2</th>\n",
       "      <td>Probability &amp; Stats</td>\n",
       "      <td>2</td>\n",
       "    </tr>\n",
       "  </tbody>\n",
       "</table>\n",
       "</div>"
      ],
      "text/plain": [
       "           course_name  total_students\n",
       "0     Database Systems               2\n",
       "1     Machine Learning               2\n",
       "2  Probability & Stats               2"
      ]
     },
     "execution_count": 15,
     "metadata": {},
     "output_type": "execute_result"
    }
   ],
   "source": [
    "query = \"\"\"\n",
    "SELECT c.course_name, COUNT(e.student_id) AS total_students\n",
    "FROM enrollments e\n",
    "JOIN courses c ON e.course_id = c.course_id\n",
    "GROUP BY c.course_name\n",
    "\"\"\"\n",
    "pd.read_sql(query, conn)"
   ]
  },
  {
   "cell_type": "markdown",
   "id": "1596a284-40c0-4f58-a6b6-2f876ee46b2c",
   "metadata": {},
   "source": [
    "# 5. AVG – Average Age of Students per Major"
   ]
  },
  {
   "cell_type": "code",
   "execution_count": 16,
   "id": "5b41805b-1fa6-4f30-be4e-82cc55b1146e",
   "metadata": {},
   "outputs": [
    {
     "data": {
      "text/html": [
       "<div>\n",
       "<style scoped>\n",
       "    .dataframe tbody tr th:only-of-type {\n",
       "        vertical-align: middle;\n",
       "    }\n",
       "\n",
       "    .dataframe tbody tr th {\n",
       "        vertical-align: top;\n",
       "    }\n",
       "\n",
       "    .dataframe thead th {\n",
       "        text-align: right;\n",
       "    }\n",
       "</style>\n",
       "<table border=\"1\" class=\"dataframe\">\n",
       "  <thead>\n",
       "    <tr style=\"text-align: right;\">\n",
       "      <th></th>\n",
       "      <th>major</th>\n",
       "      <th>avg_age</th>\n",
       "    </tr>\n",
       "  </thead>\n",
       "  <tbody>\n",
       "    <tr>\n",
       "      <th>0</th>\n",
       "      <td>Computer Science</td>\n",
       "      <td>21.0</td>\n",
       "    </tr>\n",
       "    <tr>\n",
       "      <th>1</th>\n",
       "      <td>Information Tech</td>\n",
       "      <td>22.0</td>\n",
       "    </tr>\n",
       "    <tr>\n",
       "      <th>2</th>\n",
       "      <td>Mathematics</td>\n",
       "      <td>20.0</td>\n",
       "    </tr>\n",
       "    <tr>\n",
       "      <th>3</th>\n",
       "      <td>Statistics</td>\n",
       "      <td>23.0</td>\n",
       "    </tr>\n",
       "  </tbody>\n",
       "</table>\n",
       "</div>"
      ],
      "text/plain": [
       "              major  avg_age\n",
       "0  Computer Science     21.0\n",
       "1  Information Tech     22.0\n",
       "2       Mathematics     20.0\n",
       "3        Statistics     23.0"
      ]
     },
     "execution_count": 16,
     "metadata": {},
     "output_type": "execute_result"
    }
   ],
   "source": [
    "query = \"\"\"\n",
    "SELECT major, AVG(age) AS avg_age\n",
    "FROM students\n",
    "GROUP BY major\n",
    "\"\"\"\n",
    "pd.read_sql(query, conn)"
   ]
  },
  {
   "cell_type": "markdown",
   "id": "57fde651-77c7-49b6-b989-2b09765d9636",
   "metadata": {},
   "source": [
    "# 6. HAVING – Courses with More Than 1 Student"
   ]
  },
  {
   "cell_type": "code",
   "execution_count": 17,
   "id": "47e0b6f2-aac1-408e-86f6-a630ba8d5690",
   "metadata": {},
   "outputs": [
    {
     "data": {
      "text/html": [
       "<div>\n",
       "<style scoped>\n",
       "    .dataframe tbody tr th:only-of-type {\n",
       "        vertical-align: middle;\n",
       "    }\n",
       "\n",
       "    .dataframe tbody tr th {\n",
       "        vertical-align: top;\n",
       "    }\n",
       "\n",
       "    .dataframe thead th {\n",
       "        text-align: right;\n",
       "    }\n",
       "</style>\n",
       "<table border=\"1\" class=\"dataframe\">\n",
       "  <thead>\n",
       "    <tr style=\"text-align: right;\">\n",
       "      <th></th>\n",
       "      <th>course_name</th>\n",
       "      <th>total_students</th>\n",
       "    </tr>\n",
       "  </thead>\n",
       "  <tbody>\n",
       "    <tr>\n",
       "      <th>0</th>\n",
       "      <td>Database Systems</td>\n",
       "      <td>2</td>\n",
       "    </tr>\n",
       "    <tr>\n",
       "      <th>1</th>\n",
       "      <td>Machine Learning</td>\n",
       "      <td>2</td>\n",
       "    </tr>\n",
       "    <tr>\n",
       "      <th>2</th>\n",
       "      <td>Probability &amp; Stats</td>\n",
       "      <td>2</td>\n",
       "    </tr>\n",
       "  </tbody>\n",
       "</table>\n",
       "</div>"
      ],
      "text/plain": [
       "           course_name  total_students\n",
       "0     Database Systems               2\n",
       "1     Machine Learning               2\n",
       "2  Probability & Stats               2"
      ]
     },
     "execution_count": 17,
     "metadata": {},
     "output_type": "execute_result"
    }
   ],
   "source": [
    "query = \"\"\"\n",
    "SELECT c.course_name, COUNT(e.student_id) AS total_students\n",
    "FROM enrollments e\n",
    "JOIN courses c ON e.course_id = c.course_id\n",
    "GROUP BY c.course_name\n",
    "HAVING COUNT(e.student_id) > 1\n",
    "\"\"\"\n",
    "pd.read_sql(query, conn)"
   ]
  },
  {
   "cell_type": "markdown",
   "id": "130840a0-2cd6-46a9-98eb-d98c3491c331",
   "metadata": {},
   "source": [
    "# 7. MIN/MAX – Highest & Lowest Age"
   ]
  },
  {
   "cell_type": "code",
   "execution_count": 18,
   "id": "2cd4aefc-0732-4bbc-91dd-1516661bac88",
   "metadata": {},
   "outputs": [
    {
     "data": {
      "text/html": [
       "<div>\n",
       "<style scoped>\n",
       "    .dataframe tbody tr th:only-of-type {\n",
       "        vertical-align: middle;\n",
       "    }\n",
       "\n",
       "    .dataframe tbody tr th {\n",
       "        vertical-align: top;\n",
       "    }\n",
       "\n",
       "    .dataframe thead th {\n",
       "        text-align: right;\n",
       "    }\n",
       "</style>\n",
       "<table border=\"1\" class=\"dataframe\">\n",
       "  <thead>\n",
       "    <tr style=\"text-align: right;\">\n",
       "      <th></th>\n",
       "      <th>youngest</th>\n",
       "      <th>oldest</th>\n",
       "    </tr>\n",
       "  </thead>\n",
       "  <tbody>\n",
       "    <tr>\n",
       "      <th>0</th>\n",
       "      <td>20</td>\n",
       "      <td>23</td>\n",
       "    </tr>\n",
       "  </tbody>\n",
       "</table>\n",
       "</div>"
      ],
      "text/plain": [
       "   youngest  oldest\n",
       "0        20      23"
      ]
     },
     "execution_count": 18,
     "metadata": {},
     "output_type": "execute_result"
    }
   ],
   "source": [
    "query = \"SELECT MIN(age) AS youngest, MAX(age) AS oldest FROM students\"\n",
    "pd.read_sql(query, conn)"
   ]
  },
  {
   "cell_type": "markdown",
   "id": "a15b3091-c49e-44fe-9291-b30052009f06",
   "metadata": {},
   "source": [
    "# ✅ Summary (Day 17 – Part 1):\n",
    "\n",
    "- Learned GROUP BY with aggregate functions\n",
    "- COUNT → Students per course\n",
    "- AVG → Average student age per major\n",
    "- HAVING → Filtered groups with conditions\n",
    "- MIN/MAX → Youngest & oldest students"
   ]
  },
  {
   "cell_type": "code",
   "execution_count": null,
   "id": "ee7e5b34-ddaf-4fcf-b498-b8e698b3b826",
   "metadata": {},
   "outputs": [],
   "source": []
  }
 ],
 "metadata": {
  "kernelspec": {
   "display_name": "Python 3 (ipykernel)",
   "language": "python",
   "name": "python3"
  },
  "language_info": {
   "codemirror_mode": {
    "name": "ipython",
    "version": 3
   },
   "file_extension": ".py",
   "mimetype": "text/x-python",
   "name": "python",
   "nbconvert_exporter": "python",
   "pygments_lexer": "ipython3",
   "version": "3.13.5"
  }
 },
 "nbformat": 4,
 "nbformat_minor": 5
}
