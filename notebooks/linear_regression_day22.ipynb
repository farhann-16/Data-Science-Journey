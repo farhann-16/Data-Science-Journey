{
 "cells": [
  {
   "cell_type": "markdown",
   "id": "17d7f3fb-a70a-4dfc-9f5e-b39cc8f63643",
   "metadata": {},
   "source": [
    "# 🤖 Machine Learning – Day 22\n",
    "## Linear Regression with Scikit-learn\n",
    "\n",
    "**Goal:**  \n",
    "Understand the basics of Machine Learning with **Linear Regression**.  \n",
    "We will cover:  \n",
    "- What is Linear Regression?  \n",
    "- Using Scikit-learn for model training  \n",
    "- Train/Test split  \n",
    "- Predicting house prices (toy dataset)"
   ]
  },
  {
   "cell_type": "markdown",
   "id": "48adaee2-6b09-4fae-a841-476da97ba35a",
   "metadata": {},
   "source": [
    "# 1. Import Libraries"
   ]
  },
  {
   "cell_type": "code",
   "execution_count": 4,
   "id": "85d402b2-2a98-4711-9120-9c6d4fde8eea",
   "metadata": {},
   "outputs": [],
   "source": [
    "import numpy as np\n",
    "import pandas as pd\n",
    "from sklearn.model_selection import train_test_split\n",
    "from sklearn.linear_model import LinearRegression\n",
    "import matplotlib.pyplot as plt"
   ]
  },
  {
   "cell_type": "markdown",
   "id": "fd31e633-c721-4b8a-931a-d989dae9e270",
   "metadata": {},
   "source": [
    "# 2. Create a Sample Dataset"
   ]
  },
  {
   "cell_type": "code",
   "execution_count": 5,
   "id": "e847fae3-8ec5-4b42-86b4-693061760369",
   "metadata": {},
   "outputs": [
    {
     "data": {
      "text/html": [
       "<div>\n",
       "<style scoped>\n",
       "    .dataframe tbody tr th:only-of-type {\n",
       "        vertical-align: middle;\n",
       "    }\n",
       "\n",
       "    .dataframe tbody tr th {\n",
       "        vertical-align: top;\n",
       "    }\n",
       "\n",
       "    .dataframe thead th {\n",
       "        text-align: right;\n",
       "    }\n",
       "</style>\n",
       "<table border=\"1\" class=\"dataframe\">\n",
       "  <thead>\n",
       "    <tr style=\"text-align: right;\">\n",
       "      <th></th>\n",
       "      <th>Size_sqft</th>\n",
       "      <th>Price</th>\n",
       "    </tr>\n",
       "  </thead>\n",
       "  <tbody>\n",
       "    <tr>\n",
       "      <th>0</th>\n",
       "      <td>650</td>\n",
       "      <td>70000</td>\n",
       "    </tr>\n",
       "    <tr>\n",
       "      <th>1</th>\n",
       "      <td>800</td>\n",
       "      <td>85000</td>\n",
       "    </tr>\n",
       "    <tr>\n",
       "      <th>2</th>\n",
       "      <td>1000</td>\n",
       "      <td>100000</td>\n",
       "    </tr>\n",
       "    <tr>\n",
       "      <th>3</th>\n",
       "      <td>1200</td>\n",
       "      <td>120000</td>\n",
       "    </tr>\n",
       "    <tr>\n",
       "      <th>4</th>\n",
       "      <td>1500</td>\n",
       "      <td>150000</td>\n",
       "    </tr>\n",
       "    <tr>\n",
       "      <th>5</th>\n",
       "      <td>1800</td>\n",
       "      <td>170000</td>\n",
       "    </tr>\n",
       "    <tr>\n",
       "      <th>6</th>\n",
       "      <td>2000</td>\n",
       "      <td>190000</td>\n",
       "    </tr>\n",
       "    <tr>\n",
       "      <th>7</th>\n",
       "      <td>2200</td>\n",
       "      <td>210000</td>\n",
       "    </tr>\n",
       "    <tr>\n",
       "      <th>8</th>\n",
       "      <td>2500</td>\n",
       "      <td>250000</td>\n",
       "    </tr>\n",
       "  </tbody>\n",
       "</table>\n",
       "</div>"
      ],
      "text/plain": [
       "   Size_sqft   Price\n",
       "0        650   70000\n",
       "1        800   85000\n",
       "2       1000  100000\n",
       "3       1200  120000\n",
       "4       1500  150000\n",
       "5       1800  170000\n",
       "6       2000  190000\n",
       "7       2200  210000\n",
       "8       2500  250000"
      ]
     },
     "execution_count": 5,
     "metadata": {},
     "output_type": "execute_result"
    }
   ],
   "source": [
    "# Dataset: house size vs price\n",
    "data = {\n",
    "    \"Size_sqft\": [650, 800, 1000, 1200, 1500, 1800, 2000, 2200, 2500],\n",
    "    \"Price\":     [70000, 85000, 100000, 120000, 150000, 170000, 190000, 210000, 250000]\n",
    "}\n",
    "df = pd.DataFrame(data)\n",
    "df"
   ]
  },
  {
   "cell_type": "markdown",
   "id": "7aa11a27-8444-46dd-b199-dfd51eb66a21",
   "metadata": {},
   "source": [
    "# 3. Define Features (X) and Target (y)"
   ]
  },
  {
   "cell_type": "code",
   "execution_count": 6,
   "id": "95284110-b55f-4f83-87a5-333e89db3a84",
   "metadata": {},
   "outputs": [],
   "source": [
    "X = df[[\"Size_sqft\"]]   # feature (input)\n",
    "y = df[\"Price\"]         # target (output)"
   ]
  },
  {
   "cell_type": "markdown",
   "id": "c362147f-9b8d-45d1-9d24-a9cb93d6ace6",
   "metadata": {},
   "source": [
    "# 4. Train/Test Split"
   ]
  },
  {
   "cell_type": "code",
   "execution_count": 7,
   "id": "c5ea2470-849e-42e0-ab31-b791acc1285e",
   "metadata": {},
   "outputs": [],
   "source": [
    "X_train, X_test, y_train, y_test = train_test_split(X, y, test_size=0.2, random_state=42)"
   ]
  },
  {
   "cell_type": "markdown",
   "id": "5358e62b-f812-4beb-b259-644c5e0fff8d",
   "metadata": {},
   "source": [
    "# 5. Train Linear Regression Model"
   ]
  },
  {
   "cell_type": "code",
   "execution_count": 8,
   "id": "837e7454-5585-4ffb-a4b9-7723d5d540ee",
   "metadata": {},
   "outputs": [
    {
     "name": "stdout",
     "output_type": "stream",
     "text": [
      "Slope (m): 95.02828222685321\n",
      "Intercept (b): 5421.256326287636\n"
     ]
    }
   ],
   "source": [
    "model = LinearRegression()\n",
    "model.fit(X_train, y_train)\n",
    "\n",
    "print(\"Slope (m):\", model.coef_[0])\n",
    "print(\"Intercept (b):\", model.intercept_)"
   ]
  },
  {
   "cell_type": "markdown",
   "id": "a927c84a-3c2f-4c53-bbcb-b5eebeae6b9a",
   "metadata": {},
   "source": [
    "# 6. Make Predictions"
   ]
  },
  {
   "cell_type": "code",
   "execution_count": 9,
   "id": "af4185f9-204a-4bcc-931a-e7a166ab3c1a",
   "metadata": {},
   "outputs": [
    {
     "name": "stdout",
     "output_type": "stream",
     "text": [
      "Predictions: [214483.47722536  81443.88210777]\n"
     ]
    }
   ],
   "source": [
    "y_pred = model.predict(X_test)\n",
    "print(\"Predictions:\", y_pred)"
   ]
  },
  {
   "cell_type": "markdown",
   "id": "cadab336-c880-402e-9db5-05217be0797a",
   "metadata": {},
   "source": [
    "# 7. Visualization"
   ]
  },
  {
   "cell_type": "code",
   "execution_count": 10,
   "id": "73b018e5-d4b3-4c7d-bb64-6ce71c313dd8",
   "metadata": {},
   "outputs": [
    {
     "data": {
      "image/png": "[encoded data removed]",
      "text/plain": [
       "<Figure size 640x480 with 1 Axes>"
      ]
     },
     "metadata": {},
     "output_type": "display_data"
    }
   ],
   "source": [
    "plt.scatter(X, y, color=\"blue\", label=\"Actual Data\")\n",
    "plt.plot(X, model.predict(X), color=\"red\", label=\"Regression Line\")\n",
    "plt.xlabel(\"Size (sq ft)\")\n",
    "plt.ylabel(\"Price\")\n",
    "plt.title(\"Linear Regression: House Price Prediction\")\n",
    "plt.legend()\n",
    "plt.show()"
   ]
  },
  {
   "cell_type": "markdown",
   "id": "166fde0a-2137-48d7-89e4-a4b977875221",
   "metadata": {},
   "source": [
    "# 8. Model Accuracy"
   ]
  },
  {
   "cell_type": "code",
   "execution_count": 11,
   "id": "5a86dff0-5720-4b63-bf83-c2f3d37fa5b1",
   "metadata": {},
   "outputs": [
    {
     "name": "stdout",
     "output_type": "stream",
     "text": [
      "R² Score: 0.9958083145607936\n"
     ]
    }
   ],
   "source": [
    "from sklearn.metrics import r2_score\n",
    "print(\"R² Score:\", r2_score(y_test, y_pred))"
   ]
  },
  {
   "cell_type": "markdown",
   "id": "62e3fd55-2872-4a13-9e81-728e294fb4e5",
   "metadata": {},
   "source": [
    "# ✅ Summary (Day 22 – Linear Regression):\n",
    "\n",
    "- Learned how regression predicts continuous values\n",
    "- Used scikit-learn to train/test a model\n",
    "- Visualized regression line\n",
    "- Checked accuracy with R² score"
   ]
  },
  {
   "cell_type": "code",
   "execution_count": null,
   "id": "1b1c4944-69c9-48fc-8b7d-6af403d18cfb",
   "metadata": {},
   "outputs": [],
   "source": []
  }
 ],
 "metadata": {
  "kernelspec": {
   "display_name": "Python 3 (ipykernel)",
   "language": "python",
   "name": "python3"
  },
  "language_info": {
   "codemirror_mode": {
    "name": "ipython",
    "version": 3
   },
   "file_extension": ".py",
   "mimetype": "text/x-python",
   "name": "python",
   "nbconvert_exporter": "python",
   "pygments_lexer": "ipython3",
   "version": "3.13.5"
  }
 },
 "nbformat": 4,
 "nbformat_minor": 5
}
