{
 "cells": [
  {
   "cell_type": "markdown",
   "id": "203fb944-9eef-48d7-bae1-54dde0cbc9bd",
   "metadata": {},
   "source": [
    "# 🗄️ Advanced SQL – Day 18 (Subqueries & Views)\n",
    "\n",
    "**Goal:**  \n",
    "Learn how to:  \n",
    "- Use **subqueries** (queries inside queries)  \n",
    "- Create and query **views** for reusability  "
   ]
  },
  {
   "cell_type": "markdown",
   "id": "2f95134e-8c66-44a5-878e-550bb4a6ba93",
   "metadata": {},
   "source": [
    "#  1. Setup Database"
   ]
  },
  {
   "cell_type": "code",
   "execution_count": 1,
   "id": "f80ecddf-ed3d-469b-842a-8a9adf1fcbc7",
   "metadata": {},
   "outputs": [],
   "source": [
    "import sqlite3\n",
    "import pandas as pd\n",
    "\n",
    "conn = sqlite3.connect(\":memory:\")\n",
    "cursor = conn.cursor()"
   ]
  },
  {
   "cell_type": "markdown",
   "id": "fe1fc882-4be3-45f3-897d-7115a9fa0d9c",
   "metadata": {},
   "source": [
    "# 2. Create Tables"
   ]
  },
  {
   "cell_type": "code",
   "execution_count": 2,
   "id": "a9bd342b-3f26-468d-a15c-252a33ae7a04",
   "metadata": {},
   "outputs": [
    {
     "data": {
      "text/plain": [
       "<sqlite3.Cursor at 0x273765abc40>"
      ]
     },
     "execution_count": 2,
     "metadata": {},
     "output_type": "execute_result"
    }
   ],
   "source": [
    "cursor.execute(\"\"\"\n",
    "CREATE TABLE students (\n",
    "    student_id INTEGER PRIMARY KEY,\n",
    "    name TEXT,\n",
    "    age INTEGER,\n",
    "    major TEXT\n",
    ")\n",
    "\"\"\")\n",
    "\n",
    "cursor.execute(\"\"\"\n",
    "CREATE TABLE courses (\n",
    "    course_id INTEGER PRIMARY KEY,\n",
    "    course_name TEXT,\n",
    "    credits INTEGER\n",
    ")\n",
    "\"\"\")\n",
    "\n",
    "cursor.execute(\"\"\"\n",
    "CREATE TABLE enrollments (\n",
    "    enrollment_id INTEGER PRIMARY KEY,\n",
    "    student_id INTEGER,\n",
    "    course_id INTEGER,\n",
    "    grade TEXT,\n",
    "    FOREIGN KEY(student_id) REFERENCES students(student_id),\n",
    "    FOREIGN KEY(course_id) REFERENCES courses(course_id)\n",
    ")\n",
    "\"\"\")"
   ]
  },
  {
   "cell_type": "markdown",
   "id": "832d7b29-d627-404a-b536-925c2bb0f0de",
   "metadata": {},
   "source": [
    "# 3. Insert Sample Data"
   ]
  },
  {
   "cell_type": "code",
   "execution_count": 3,
   "id": "6936ee85-78c9-4898-8d74-40e50f872b50",
   "metadata": {},
   "outputs": [],
   "source": [
    "students_data = [\n",
    "    (1, \"Zeeshan\", 21, \"Computer Science\"),\n",
    "    (2, \"Samiya\", 22, \"Information Tech\"),\n",
    "    (3, \"Farhan\", 20, \"Mathematics\"),\n",
    "    (4, \"Meera\", 23, \"Statistics\"),\n",
    "    (5, \"Zara\", 21, \"Computer Science\")\n",
    "]\n",
    "\n",
    "courses_data = [\n",
    "    (101, \"Database Systems\", 3),\n",
    "    (102, \"Machine Learning\", 4),\n",
    "    (103, \"Probability & Stats\", 3)\n",
    "]\n",
    "\n",
    "enrollments_data = [\n",
    "    (1, 1, 101, \"A\"),\n",
    "    (2, 1, 102, \"B\"),\n",
    "    (3, 2, 101, \"A\"),\n",
    "    (4, 3, 103, \"B\"),\n",
    "    (5, 4, 102, \"A\"),\n",
    "    (6, 4, 103, \"A\"),\n",
    "    (7, 5, 101, \"B\")\n",
    "]\n",
    "\n",
    "cursor.executemany(\"INSERT INTO students VALUES (?, ?, ?, ?)\", students_data)\n",
    "cursor.executemany(\"INSERT INTO courses VALUES (?, ?, ?)\", courses_data)\n",
    "cursor.executemany(\"INSERT INTO enrollments VALUES (?, ?, ?, ?)\", enrollments_data)\n",
    "conn.commit()\n"
   ]
  },
  {
   "cell_type": "markdown",
   "id": "1ded2bff-8abd-4531-b1db-c53c15826d08",
   "metadata": {},
   "source": [
    "# 4. Subquery Example 1 – Students Above Average Age"
   ]
  },
  {
   "cell_type": "code",
   "execution_count": 4,
   "id": "8aaef62c-4d6b-44cc-bba1-6c74fdeda84b",
   "metadata": {},
   "outputs": [
    {
     "data": {
      "text/html": [
       "<div>\n",
       "<style scoped>\n",
       "    .dataframe tbody tr th:only-of-type {\n",
       "        vertical-align: middle;\n",
       "    }\n",
       "\n",
       "    .dataframe tbody tr th {\n",
       "        vertical-align: top;\n",
       "    }\n",
       "\n",
       "    .dataframe thead th {\n",
       "        text-align: right;\n",
       "    }\n",
       "</style>\n",
       "<table border=\"1\" class=\"dataframe\">\n",
       "  <thead>\n",
       "    <tr style=\"text-align: right;\">\n",
       "      <th></th>\n",
       "      <th>name</th>\n",
       "      <th>age</th>\n",
       "    </tr>\n",
       "  </thead>\n",
       "  <tbody>\n",
       "    <tr>\n",
       "      <th>0</th>\n",
       "      <td>Samiya</td>\n",
       "      <td>22</td>\n",
       "    </tr>\n",
       "    <tr>\n",
       "      <th>1</th>\n",
       "      <td>Meera</td>\n",
       "      <td>23</td>\n",
       "    </tr>\n",
       "  </tbody>\n",
       "</table>\n",
       "</div>"
      ],
      "text/plain": [
       "     name  age\n",
       "0  Samiya   22\n",
       "1   Meera   23"
      ]
     },
     "execution_count": 4,
     "metadata": {},
     "output_type": "execute_result"
    }
   ],
   "source": [
    "query = \"\"\"\n",
    "SELECT name, age\n",
    "FROM students\n",
    "WHERE age > (SELECT AVG(age) FROM students)\n",
    "\"\"\"\n",
    "pd.read_sql(query, conn)"
   ]
  },
  {
   "cell_type": "markdown",
   "id": "78f97d16-864d-4b52-bf7f-d22ed050901c",
   "metadata": {},
   "source": [
    "# 5. Subquery Example 2 – Students Enrolled in \"Database Systems\""
   ]
  },
  {
   "cell_type": "code",
   "execution_count": 5,
   "id": "8846b14f-a8c1-41e5-9c14-17d829bc40b1",
   "metadata": {},
   "outputs": [
    {
     "data": {
      "text/html": [
       "<div>\n",
       "<style scoped>\n",
       "    .dataframe tbody tr th:only-of-type {\n",
       "        vertical-align: middle;\n",
       "    }\n",
       "\n",
       "    .dataframe tbody tr th {\n",
       "        vertical-align: top;\n",
       "    }\n",
       "\n",
       "    .dataframe thead th {\n",
       "        text-align: right;\n",
       "    }\n",
       "</style>\n",
       "<table border=\"1\" class=\"dataframe\">\n",
       "  <thead>\n",
       "    <tr style=\"text-align: right;\">\n",
       "      <th></th>\n",
       "      <th>name</th>\n",
       "    </tr>\n",
       "  </thead>\n",
       "  <tbody>\n",
       "    <tr>\n",
       "      <th>0</th>\n",
       "      <td>Zeeshan</td>\n",
       "    </tr>\n",
       "    <tr>\n",
       "      <th>1</th>\n",
       "      <td>Samiya</td>\n",
       "    </tr>\n",
       "    <tr>\n",
       "      <th>2</th>\n",
       "      <td>Zara</td>\n",
       "    </tr>\n",
       "  </tbody>\n",
       "</table>\n",
       "</div>"
      ],
      "text/plain": [
       "      name\n",
       "0  Zeeshan\n",
       "1   Samiya\n",
       "2     Zara"
      ]
     },
     "execution_count": 5,
     "metadata": {},
     "output_type": "execute_result"
    }
   ],
   "source": [
    "query = \"\"\"\n",
    "SELECT name\n",
    "FROM students\n",
    "WHERE student_id IN (\n",
    "    SELECT student_id\n",
    "    FROM enrollments\n",
    "    WHERE course_id = (SELECT course_id FROM courses WHERE course_name = 'Database Systems')\n",
    ")\n",
    "\"\"\"\n",
    "pd.read_sql(query, conn)"
   ]
  },
  {
   "cell_type": "markdown",
   "id": "c1226056-a313-423e-822b-826f12bea72b",
   "metadata": {},
   "source": [
    "# 6. Creating a View"
   ]
  },
  {
   "cell_type": "code",
   "execution_count": 6,
   "id": "0f5e65dc-0306-4116-b882-edaaaf1b1ed5",
   "metadata": {},
   "outputs": [
    {
     "data": {
      "text/plain": [
       "<sqlite3.Cursor at 0x273765abc40>"
      ]
     },
     "execution_count": 6,
     "metadata": {},
     "output_type": "execute_result"
    }
   ],
   "source": [
    "cursor.execute(\"\"\"\n",
    "CREATE VIEW student_course_grades AS\n",
    "SELECT s.name, c.course_name, e.grade\n",
    "FROM enrollments e\n",
    "JOIN students s ON e.student_id = s.student_id\n",
    "JOIN courses c ON e.course_id = c.course_id\n",
    "\"\"\")"
   ]
  },
  {
   "cell_type": "code",
   "execution_count": 7,
   "id": "c039a41a-e0c5-486b-a191-b5116696b5a3",
   "metadata": {},
   "outputs": [
    {
     "data": {
      "text/html": [
       "<div>\n",
       "<style scoped>\n",
       "    .dataframe tbody tr th:only-of-type {\n",
       "        vertical-align: middle;\n",
       "    }\n",
       "\n",
       "    .dataframe tbody tr th {\n",
       "        vertical-align: top;\n",
       "    }\n",
       "\n",
       "    .dataframe thead th {\n",
       "        text-align: right;\n",
       "    }\n",
       "</style>\n",
       "<table border=\"1\" class=\"dataframe\">\n",
       "  <thead>\n",
       "    <tr style=\"text-align: right;\">\n",
       "      <th></th>\n",
       "      <th>name</th>\n",
       "      <th>course_name</th>\n",
       "      <th>grade</th>\n",
       "    </tr>\n",
       "  </thead>\n",
       "  <tbody>\n",
       "    <tr>\n",
       "      <th>0</th>\n",
       "      <td>Zeeshan</td>\n",
       "      <td>Database Systems</td>\n",
       "      <td>A</td>\n",
       "    </tr>\n",
       "    <tr>\n",
       "      <th>1</th>\n",
       "      <td>Zeeshan</td>\n",
       "      <td>Machine Learning</td>\n",
       "      <td>B</td>\n",
       "    </tr>\n",
       "    <tr>\n",
       "      <th>2</th>\n",
       "      <td>Samiya</td>\n",
       "      <td>Database Systems</td>\n",
       "      <td>A</td>\n",
       "    </tr>\n",
       "    <tr>\n",
       "      <th>3</th>\n",
       "      <td>Farhan</td>\n",
       "      <td>Probability &amp; Stats</td>\n",
       "      <td>B</td>\n",
       "    </tr>\n",
       "    <tr>\n",
       "      <th>4</th>\n",
       "      <td>Meera</td>\n",
       "      <td>Machine Learning</td>\n",
       "      <td>A</td>\n",
       "    </tr>\n",
       "    <tr>\n",
       "      <th>5</th>\n",
       "      <td>Meera</td>\n",
       "      <td>Probability &amp; Stats</td>\n",
       "      <td>A</td>\n",
       "    </tr>\n",
       "    <tr>\n",
       "      <th>6</th>\n",
       "      <td>Zara</td>\n",
       "      <td>Database Systems</td>\n",
       "      <td>B</td>\n",
       "    </tr>\n",
       "  </tbody>\n",
       "</table>\n",
       "</div>"
      ],
      "text/plain": [
       "      name          course_name grade\n",
       "0  Zeeshan     Database Systems     A\n",
       "1  Zeeshan     Machine Learning     B\n",
       "2   Samiya     Database Systems     A\n",
       "3   Farhan  Probability & Stats     B\n",
       "4    Meera     Machine Learning     A\n",
       "5    Meera  Probability & Stats     A\n",
       "6     Zara     Database Systems     B"
      ]
     },
     "execution_count": 7,
     "metadata": {},
     "output_type": "execute_result"
    }
   ],
   "source": [
    "pd.read_sql(\"SELECT * FROM student_course_grades\", conn)"
   ]
  },
  {
   "cell_type": "markdown",
   "id": "a7094bf9-5a69-4c6c-b3cd-7f8898bdc45f",
   "metadata": {},
   "source": [
    "# 7. Query View with Filtering"
   ]
  },
  {
   "cell_type": "code",
   "execution_count": 8,
   "id": "78adadd8-97c0-469e-8814-199080e9ba36",
   "metadata": {},
   "outputs": [
    {
     "data": {
      "text/html": [
       "<div>\n",
       "<style scoped>\n",
       "    .dataframe tbody tr th:only-of-type {\n",
       "        vertical-align: middle;\n",
       "    }\n",
       "\n",
       "    .dataframe tbody tr th {\n",
       "        vertical-align: top;\n",
       "    }\n",
       "\n",
       "    .dataframe thead th {\n",
       "        text-align: right;\n",
       "    }\n",
       "</style>\n",
       "<table border=\"1\" class=\"dataframe\">\n",
       "  <thead>\n",
       "    <tr style=\"text-align: right;\">\n",
       "      <th></th>\n",
       "      <th>name</th>\n",
       "      <th>course_name</th>\n",
       "      <th>grade</th>\n",
       "    </tr>\n",
       "  </thead>\n",
       "  <tbody>\n",
       "    <tr>\n",
       "      <th>0</th>\n",
       "      <td>Zeeshan</td>\n",
       "      <td>Database Systems</td>\n",
       "      <td>A</td>\n",
       "    </tr>\n",
       "    <tr>\n",
       "      <th>1</th>\n",
       "      <td>Samiya</td>\n",
       "      <td>Database Systems</td>\n",
       "      <td>A</td>\n",
       "    </tr>\n",
       "    <tr>\n",
       "      <th>2</th>\n",
       "      <td>Meera</td>\n",
       "      <td>Machine Learning</td>\n",
       "      <td>A</td>\n",
       "    </tr>\n",
       "    <tr>\n",
       "      <th>3</th>\n",
       "      <td>Meera</td>\n",
       "      <td>Probability &amp; Stats</td>\n",
       "      <td>A</td>\n",
       "    </tr>\n",
       "  </tbody>\n",
       "</table>\n",
       "</div>"
      ],
      "text/plain": [
       "      name          course_name grade\n",
       "0  Zeeshan     Database Systems     A\n",
       "1   Samiya     Database Systems     A\n",
       "2    Meera     Machine Learning     A\n",
       "3    Meera  Probability & Stats     A"
      ]
     },
     "execution_count": 8,
     "metadata": {},
     "output_type": "execute_result"
    }
   ],
   "source": [
    "pd.read_sql(\"SELECT * FROM student_course_grades WHERE grade = 'A'\", conn)"
   ]
  },
  {
   "cell_type": "markdown",
   "id": "4a25b200-e25c-4b32-bca3-2f9eafbbfe66",
   "metadata": {},
   "source": [
    "# ✅ Summary (Day 18 – Part 2):\n",
    "\n",
    "- Learned subqueries (IN, nested queries for filtering)\n",
    "- Created a view to simplify repeated JOIN queries\n",
    "- Queried the view with filtering conditions\n",
    "- Built SQL that looks much closer to real-world projects 🎯"
   ]
  },
  {
   "cell_type": "code",
   "execution_count": null,
   "id": "4c94e9e2-06ea-4c5e-be0e-507459eeae9f",
   "metadata": {},
   "outputs": [],
   "source": []
  }
 ],
 "metadata": {
  "kernelspec": {
   "display_name": "Python 3 (ipykernel)",
   "language": "python",
   "name": "python3"
  },
  "language_info": {
   "codemirror_mode": {
    "name": "ipython",
    "version": 3
   },
   "file_extension": ".py",
   "mimetype": "text/x-python",
   "name": "python",
   "nbconvert_exporter": "python",
   "pygments_lexer": "ipython3",
   "version": "3.13.5"
  }
 },
 "nbformat": 4,
 "nbformat_minor": 5
}
