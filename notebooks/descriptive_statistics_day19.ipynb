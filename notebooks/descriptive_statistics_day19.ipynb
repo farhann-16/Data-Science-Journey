{
 "cells": [
  {
   "cell_type": "markdown",
   "id": "4f708004-da99-49b1-807b-45adbe21787a",
   "metadata": {},
   "source": [
    "# 📊 Descriptive Statistics (Day 19)\n",
    "\n",
    "**Goal:**  \n",
    "Understand basic descriptive statistics using Python.  \n",
    "We will compute:  \n",
    "- Mean  \n",
    "- Median  \n",
    "- Mode  \n",
    "- Variance  \n",
    "- Standard Deviation  "
   ]
  },
  {
   "cell_type": "markdown",
   "id": "94486e12-989c-4a51-8840-8294b8628be8",
   "metadata": {},
   "source": [
    "#  1. Import Libraries"
   ]
  },
  {
   "cell_type": "code",
   "execution_count": 3,
   "id": "44d2267a-b030-453d-892d-41f941df7145",
   "metadata": {},
   "outputs": [
    {
     "name": "stdout",
     "output_type": "stream",
     "text": [
      "Collecting scipy\n",
      "  Using cached scipy-1.16.1-cp313-cp313-win_amd64.whl.metadata (60 kB)\n",
      "Requirement already satisfied: numpy<2.6,>=1.25.2 in c:\\users\\farhan diwan\\anaconda3\\envs\\farhanenv\\lib\\site-packages (from scipy) (2.2.5)\n",
      "Using cached scipy-1.16.1-cp313-cp313-win_amd64.whl (38.5 MB)\n",
      "Installing collected packages: scipy\n",
      "Successfully installed scipy-1.16.1\n"
     ]
    }
   ],
   "source": [
    "import pandas as pd\n",
    "import numpy as np\n",
    "!pip install scipy\n",
    "\n",
    "from scipy import stats"
   ]
  },
  {
   "cell_type": "markdown",
   "id": "7ebd40e9-2681-4a63-9e73-423df1c2cfce",
   "metadata": {},
   "source": [
    "# 2. Create a Sample Dataset"
   ]
  },
  {
   "cell_type": "code",
   "execution_count": 4,
   "id": "c64cde0f-008d-47da-8a98-4a1b90202158",
   "metadata": {},
   "outputs": [
    {
     "data": {
      "text/html": [
       "<div>\n",
       "<style scoped>\n",
       "    .dataframe tbody tr th:only-of-type {\n",
       "        vertical-align: middle;\n",
       "    }\n",
       "\n",
       "    .dataframe tbody tr th {\n",
       "        vertical-align: top;\n",
       "    }\n",
       "\n",
       "    .dataframe thead th {\n",
       "        text-align: right;\n",
       "    }\n",
       "</style>\n",
       "<table border=\"1\" class=\"dataframe\">\n",
       "  <thead>\n",
       "    <tr style=\"text-align: right;\">\n",
       "      <th></th>\n",
       "      <th>Score</th>\n",
       "    </tr>\n",
       "  </thead>\n",
       "  <tbody>\n",
       "    <tr>\n",
       "      <th>0</th>\n",
       "      <td>85</td>\n",
       "    </tr>\n",
       "    <tr>\n",
       "      <th>1</th>\n",
       "      <td>90</td>\n",
       "    </tr>\n",
       "    <tr>\n",
       "      <th>2</th>\n",
       "      <td>78</td>\n",
       "    </tr>\n",
       "    <tr>\n",
       "      <th>3</th>\n",
       "      <td>92</td>\n",
       "    </tr>\n",
       "    <tr>\n",
       "      <th>4</th>\n",
       "      <td>88</td>\n",
       "    </tr>\n",
       "    <tr>\n",
       "      <th>5</th>\n",
       "      <td>76</td>\n",
       "    </tr>\n",
       "    <tr>\n",
       "      <th>6</th>\n",
       "      <td>95</td>\n",
       "    </tr>\n",
       "    <tr>\n",
       "      <th>7</th>\n",
       "      <td>89</td>\n",
       "    </tr>\n",
       "    <tr>\n",
       "      <th>8</th>\n",
       "      <td>84</td>\n",
       "    </tr>\n",
       "    <tr>\n",
       "      <th>9</th>\n",
       "      <td>91</td>\n",
       "    </tr>\n",
       "  </tbody>\n",
       "</table>\n",
       "</div>"
      ],
      "text/plain": [
       "   Score\n",
       "0     85\n",
       "1     90\n",
       "2     78\n",
       "3     92\n",
       "4     88\n",
       "5     76\n",
       "6     95\n",
       "7     89\n",
       "8     84\n",
       "9     91"
      ]
     },
     "execution_count": 4,
     "metadata": {},
     "output_type": "execute_result"
    }
   ],
   "source": [
    "scores = [85, 90, 78, 92, 88, 76, 95, 89, 84, 91]\n",
    "df = pd.DataFrame(scores, columns=[\"Score\"])\n",
    "df"
   ]
  },
  {
   "cell_type": "markdown",
   "id": "a7d7a2af-3a5c-497c-888c-20482d3f6f9c",
   "metadata": {},
   "source": [
    "# 3. Mean (Average)"
   ]
  },
  {
   "cell_type": "code",
   "execution_count": 5,
   "id": "38d468b1-82ec-4531-9e87-33b0b9794aec",
   "metadata": {},
   "outputs": [
    {
     "name": "stdout",
     "output_type": "stream",
     "text": [
      "Mean Score: 86.8\n"
     ]
    }
   ],
   "source": [
    "mean_val = np.mean(scores)\n",
    "print(\"Mean Score:\", mean_val)"
   ]
  },
  {
   "cell_type": "markdown",
   "id": "4afd3448-97ef-4fe4-b4a0-7bc234ce46e2",
   "metadata": {},
   "source": [
    "# 4. Median (Middle Value)"
   ]
  },
  {
   "cell_type": "code",
   "execution_count": 6,
   "id": "1555de15-b9ea-4724-8b23-410a9adb99fd",
   "metadata": {},
   "outputs": [
    {
     "name": "stdout",
     "output_type": "stream",
     "text": [
      "Median Score: 88.5\n"
     ]
    }
   ],
   "source": [
    "median_val = np.median(scores)\n",
    "print(\"Median Score:\", median_val)"
   ]
  },
  {
   "cell_type": "markdown",
   "id": "5b9cae80-d1c8-416a-8306-f3b4b144f24c",
   "metadata": {},
   "source": [
    "# 5. Mode (Most Frequent Value)"
   ]
  },
  {
   "cell_type": "code",
   "execution_count": 7,
   "id": "56208c87-9903-438d-a16e-7215eb450174",
   "metadata": {},
   "outputs": [
    {
     "name": "stdout",
     "output_type": "stream",
     "text": [
      "Mode Score: 76 Frequency: 1\n"
     ]
    }
   ],
   "source": [
    "mode_val = stats.mode(scores, keepdims=True)\n",
    "print(\"Mode Score:\", mode_val.mode[0], \"Frequency:\", mode_val.count[0])"
   ]
  },
  {
   "cell_type": "markdown",
   "id": "fc741867-eaaa-4179-a02b-6b0f9401074b",
   "metadata": {},
   "source": [
    "# 6. Variance (Spread of Data)"
   ]
  },
  {
   "cell_type": "code",
   "execution_count": 8,
   "id": "c321209b-54ff-40f4-9454-41a85cde8cf8",
   "metadata": {},
   "outputs": [
    {
     "name": "stdout",
     "output_type": "stream",
     "text": [
      "Variance: 37.06666666666667\n"
     ]
    }
   ],
   "source": [
    "variance_val = np.var(scores, ddof=1)  # sample variance\n",
    "print(\"Variance:\", variance_val)\n"
   ]
  },
  {
   "cell_type": "markdown",
   "id": "4eeb3360-af5a-4544-8b2d-85e776019772",
   "metadata": {},
   "source": [
    "# 7. Standard Deviation (How Spread Out the Data Is)"
   ]
  },
  {
   "cell_type": "code",
   "execution_count": 9,
   "id": "504b91d5-ea50-44a5-a058-655c989878b8",
   "metadata": {},
   "outputs": [
    {
     "name": "stdout",
     "output_type": "stream",
     "text": [
      "Standard Deviation: 6.0882400303098\n"
     ]
    }
   ],
   "source": [
    "std_val = np.std(scores, ddof=1)  # sample standard deviation\n",
    "print(\"Standard Deviation:\", std_val)"
   ]
  },
  {
   "cell_type": "markdown",
   "id": "590e1cee-4af1-46ec-a98a-287724a096d1",
   "metadata": {},
   "source": [
    "# 8. Summary with Pandas"
   ]
  },
  {
   "cell_type": "code",
   "execution_count": 10,
   "id": "7d3d9e9f-1c23-4ee3-a85e-23b2650b2c9e",
   "metadata": {},
   "outputs": [
    {
     "data": {
      "text/html": [
       "<div>\n",
       "<style scoped>\n",
       "    .dataframe tbody tr th:only-of-type {\n",
       "        vertical-align: middle;\n",
       "    }\n",
       "\n",
       "    .dataframe tbody tr th {\n",
       "        vertical-align: top;\n",
       "    }\n",
       "\n",
       "    .dataframe thead th {\n",
       "        text-align: right;\n",
       "    }\n",
       "</style>\n",
       "<table border=\"1\" class=\"dataframe\">\n",
       "  <thead>\n",
       "    <tr style=\"text-align: right;\">\n",
       "      <th></th>\n",
       "      <th>Score</th>\n",
       "    </tr>\n",
       "  </thead>\n",
       "  <tbody>\n",
       "    <tr>\n",
       "      <th>count</th>\n",
       "      <td>10.00000</td>\n",
       "    </tr>\n",
       "    <tr>\n",
       "      <th>mean</th>\n",
       "      <td>86.80000</td>\n",
       "    </tr>\n",
       "    <tr>\n",
       "      <th>std</th>\n",
       "      <td>6.08824</td>\n",
       "    </tr>\n",
       "    <tr>\n",
       "      <th>min</th>\n",
       "      <td>76.00000</td>\n",
       "    </tr>\n",
       "    <tr>\n",
       "      <th>25%</th>\n",
       "      <td>84.25000</td>\n",
       "    </tr>\n",
       "    <tr>\n",
       "      <th>50%</th>\n",
       "      <td>88.50000</td>\n",
       "    </tr>\n",
       "    <tr>\n",
       "      <th>75%</th>\n",
       "      <td>90.75000</td>\n",
       "    </tr>\n",
       "    <tr>\n",
       "      <th>max</th>\n",
       "      <td>95.00000</td>\n",
       "    </tr>\n",
       "  </tbody>\n",
       "</table>\n",
       "</div>"
      ],
      "text/plain": [
       "          Score\n",
       "count  10.00000\n",
       "mean   86.80000\n",
       "std     6.08824\n",
       "min    76.00000\n",
       "25%    84.25000\n",
       "50%    88.50000\n",
       "75%    90.75000\n",
       "max    95.00000"
      ]
     },
     "execution_count": 10,
     "metadata": {},
     "output_type": "execute_result"
    }
   ],
   "source": [
    "df.describe()"
   ]
  },
  {
   "cell_type": "markdown",
   "id": "d14a5984-73da-42e7-9fa7-99df03199830",
   "metadata": {},
   "source": [
    "# ✅ Summary (Day 19 – Descriptive Stats):\n",
    "\n",
    "- Mean → average performance\n",
    "- Median → middle score\n",
    "- Mode → most common score\n",
    "- Variance → spread of data\n",
    "- Standard Deviation → how far values deviate from mean\n",
    "- Used both NumPy/Scipy and Pandas for calculations"
   ]
  },
  {
   "cell_type": "code",
   "execution_count": null,
   "id": "7b4a8322-9e6b-4523-8f5e-ec4fa9c96ccb",
   "metadata": {},
   "outputs": [],
   "source": []
  }
 ],
 "metadata": {
  "kernelspec": {
   "display_name": "Python 3 (ipykernel)",
   "language": "python",
   "name": "python3"
  },
  "language_info": {
   "codemirror_mode": {
    "name": "ipython",
    "version": 3
   },
   "file_extension": ".py",
   "mimetype": "text/x-python",
   "name": "python",
   "nbconvert_exporter": "python",
   "pygments_lexer": "ipython3",
   "version": "3.13.5"
  }
 },
 "nbformat": 4,
 "nbformat_minor": 5
}
