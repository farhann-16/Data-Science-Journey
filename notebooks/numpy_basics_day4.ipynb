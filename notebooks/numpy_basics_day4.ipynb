{
 "cells": [
  {
   "cell_type": "markdown",
   "id": "9d3e8005-72e9-41a8-9fc2-ff816dc49197",
   "metadata": {},
   "source": [
    "# 🔢 NumPy Operations – Day 4\n",
    "**Goal:** Learn numerical operations, statistics, and random number generation with NumPy.  "
   ]
  },
  {
   "cell_type": "markdown",
   "id": "0266671b-7749-40c8-8411-518194604f51",
   "metadata": {},
   "source": [
    "# 1. Element-wise Operations"
   ]
  },
  {
   "cell_type": "markdown",
   "id": "916b5f9f-515a-4e74-8d7c-d2d55099af65",
   "metadata": {},
   "source": [
    "import numpy as np\n",
    "\n",
    "arr1 = np.array([1, 2, 3, 4])\n",
    "arr2 = np.array([10, 20, 30, 40])\n",
    "\n",
    "print(\"Addition:\", arr1 + arr2)\n",
    "print(\"Multiplication:\", arr1 * arr2)\n",
    "print(\"Square:\", arr1 ** 2)"
   ]
  },
  {
   "cell_type": "markdown",
   "id": "8333adcc-d739-42f3-b714-8ef8022ab16f",
   "metadata": {},
   "source": [
    "# 2. Aggregate Functions"
   ]
  },
  {
   "cell_type": "code",
   "execution_count": 4,
   "id": "7ad04b41-a184-4e7f-8b77-ab3d26a8e884",
   "metadata": {},
   "outputs": [
    {
     "name": "stdout",
     "output_type": "stream",
     "text": [
      "Sum: 75\n",
      "Mean: 15.0\n",
      "Median: 15.0\n",
      "Standard Deviation: 7.0710678118654755\n",
      "Variance: 50.0\n"
     ]
    }
   ],
   "source": [
    "data = np.array([5, 10, 15, 20, 25])\n",
    "\n",
    "print(\"Sum:\", np.sum(data))\n",
    "print(\"Mean:\", np.mean(data))\n",
    "print(\"Median:\", np.median(data))\n",
    "print(\"Standard Deviation:\", np.std(data))\n",
    "print(\"Variance:\", np.var(data))"
   ]
  },
  {
   "cell_type": "markdown",
   "id": "bb64e0ac-abc1-4053-9caf-5f3d5c522901",
   "metadata": {},
   "source": [
    "# 3. Matrix Operations"
   ]
  },
  {
   "cell_type": "code",
   "execution_count": 5,
   "id": "a7f30c95-6825-4bf1-af78-78d024c2acbb",
   "metadata": {},
   "outputs": [
    {
     "name": "stdout",
     "output_type": "stream",
     "text": [
      "Matrix A:\n",
      " [[1 2]\n",
      " [3 4]]\n",
      "Matrix B:\n",
      " [[5 6]\n",
      " [7 8]]\n",
      "Dot Product:\n",
      " [[19 22]\n",
      " [43 50]]\n",
      "Transpose of A:\n",
      " [[1 3]\n",
      " [2 4]]\n"
     ]
    }
   ],
   "source": [
    "A = np.array([[1, 2], [3, 4]])\n",
    "B = np.array([[5, 6], [7, 8]])\n",
    "\n",
    "print(\"Matrix A:\\n\", A)\n",
    "print(\"Matrix B:\\n\", B)\n",
    "\n",
    "# Dot product\n",
    "print(\"Dot Product:\\n\", np.dot(A, B))\n",
    "\n",
    "# Transpose\n",
    "print(\"Transpose of A:\\n\", A.T)"
   ]
  },
  {
   "cell_type": "markdown",
   "id": "ec0cd02e-d05e-4be2-8a22-d4f21bbb7cf4",
   "metadata": {},
   "source": [
    "# 4. Random Number Generation"
   ]
  },
  {
   "cell_type": "code",
   "execution_count": 6,
   "id": "7a0de997-96dc-4705-a524-93ed1715726c",
   "metadata": {},
   "outputs": [
    {
     "name": "stdout",
     "output_type": "stream",
     "text": [
      "Random Integers:\n",
      " [[2 3 2]\n",
      " [6 9 5]\n",
      " [3 6 1]]\n",
      "Random Floats:\n",
      " [[0.72272574 0.75436418 0.8951181  0.05912836]\n",
      " [0.51429256 0.69665429 0.74936019 0.52113244]]\n",
      "Random Normal: [-0.85772167  2.27471309 -0.29443914  0.57360451 -0.5519492 ]\n"
     ]
    }
   ],
   "source": [
    "# Random integers\n",
    "rand_ints = np.random.randint(1, 10, size=(3, 3))\n",
    "print(\"Random Integers:\\n\", rand_ints)\n",
    "\n",
    "# Random floats\n",
    "rand_floats = np.random.rand(2, 4)\n",
    "print(\"Random Floats:\\n\", rand_floats)\n",
    "\n",
    "# Normal distribution\n",
    "rand_norm = np.random.randn(5)\n",
    "print(\"Random Normal:\", rand_norm)"
   ]
  },
  {
   "cell_type": "markdown",
   "id": "454c529b-13b0-41c0-a139-450a63ee7e9a",
   "metadata": {},
   "source": [
    "# 5. Small Exercise"
   ]
  },
  {
   "cell_type": "code",
   "execution_count": 7,
   "id": "2d03ddb2-23c9-4179-b615-f15cd37f7be4",
   "metadata": {},
   "outputs": [
    {
     "name": "stdout",
     "output_type": "stream",
     "text": [
      "Data: [48 87 38  4 15 63 73 64 23 98] ...\n",
      "Mean: 48.03\n",
      "Std Dev: 27.80016366858296\n"
     ]
    }
   ],
   "source": [
    "# Exercise: Create an array of 100 random numbers and calculate mean & std\n",
    "data = np.random.randint(1, 100, 100)\n",
    "print(\"Data:\", data[:10], \"...\")  # preview\n",
    "print(\"Mean:\", np.mean(data))\n",
    "print(\"Std Dev:\", np.std(data))"
   ]
  },
  {
   "cell_type": "markdown",
   "id": "22ca460d-79c9-4434-b8e2-49cbb1b74083",
   "metadata": {},
   "source": [
    "# ✅ Summary (Day 4):\n",
    "\n",
    "Performed element-wise operations\n",
    "Calculated statistics (mean, std, var)\n",
    "Practiced matrix multiplication & transpose\n",
    "Used NumPy’s random module for data simulation"
   ]
  },
  {
   "cell_type": "code",
   "execution_count": null,
   "id": "585c64a5-e6b4-468b-b4d2-e1bd8f01b56f",
   "metadata": {},
   "outputs": [],
   "source": []
  }
 ],
 "metadata": {
  "kernelspec": {
   "display_name": "Python 3 (ipykernel)",
   "language": "python",
   "name": "python3"
  },
  "language_info": {
   "codemirror_mode": {
    "name": "ipython",
    "version": 3
   },
   "file_extension": ".py",
   "mimetype": "text/x-python",
   "name": "python",
   "nbconvert_exporter": "python",
   "pygments_lexer": "ipython3",
   "version": "3.13.5"
  }
 },
 "nbformat": 4,
 "nbformat_minor": 5
}
