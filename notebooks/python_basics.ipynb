{
 "cells": [
  {
   "cell_type": "markdown",
   "id": "48a9eef5-0aa8-48ff-9fc0-dc3caece9153",
   "metadata": {},
   "source": [
    "# 🐍 Python Basics – Day 1\n",
    "**Goal:** Learn core Python fundamentals (lists, dicts, loops, and functions) as part of my 30-day Data Science Journey 🚀\n",
    "\n",
    "---\n",
    "\n",
    "## 🔹 1. Hello Python\n",
    "```python"
   ]
  },
  {
   "cell_type": "code",
   "execution_count": 1,
   "id": "678996f6-c055-4565-a20d-2c5995d66c3d",
   "metadata": {},
   "outputs": [
    {
     "name": "stdout",
     "output_type": "stream",
     "text": [
      "Hello, Data Science 🚀\n",
      "Day 1: Python Basics\n"
     ]
    }
   ],
   "source": [
    "print(\"Hello, Data Science 🚀\")\n",
    "print(\"Day 1: Python Basics\")"
   ]
  },
  {
   "cell_type": "markdown",
   "id": "63fe8ec0-e442-458d-b3d8-eecc155fb9d3",
   "metadata": {},
   "source": [
    "# 🔹 2. Working with Lists\n",
    "\n",
    "Lists are ordered collections in Python."
   ]
  },
  {
   "cell_type": "code",
   "execution_count": 2,
   "id": "b348d7c2-8016-455b-8bdf-600712d52b69",
   "metadata": {},
   "outputs": [
    {
     "name": "stdout",
     "output_type": "stream",
     "text": [
      "Numbers: [10, 20, 30, 40, 50]\n",
      "First element: 10\n",
      "Last element: 50\n",
      "Length: 5\n",
      "Sum: 150\n",
      "Max: 50\n",
      "Min: 10\n",
      "Squares: [100, 400, 900, 1600, 2500]\n"
     ]
    }
   ],
   "source": [
    "numbers = [10, 20, 30, 40, 50]\n",
    "\n",
    "print(\"Numbers:\", numbers)\n",
    "print(\"First element:\", numbers[0])\n",
    "print(\"Last element:\", numbers[-1])\n",
    "\n",
    "# Operations\n",
    "print(\"Length:\", len(numbers))\n",
    "print(\"Sum:\", sum(numbers))\n",
    "print(\"Max:\", max(numbers))\n",
    "print(\"Min:\", min(numbers))\n",
    "\n",
    "# List comprehension\n",
    "squares = [n**2 for n in numbers]\n",
    "print(\"Squares:\", squares)"
   ]
  },
  {
   "cell_type": "markdown",
   "id": "d2cd5eeb-c8ce-4848-bb9a-03c41c11712a",
   "metadata": {},
   "source": [
    "# 🔹 3. Dictionaries\n",
    "\n",
    "Dictionaries store key–value pairs."
   ]
  },
  {
   "cell_type": "code",
   "execution_count": 3,
   "id": "0ce0c394-b16d-497d-a385-ccaddb05f60b",
   "metadata": {},
   "outputs": [
    {
     "name": "stdout",
     "output_type": "stream",
     "text": [
      "{'name': 'Farhan', 'age': 22, 'course': 'Information Technology'}\n",
      "Name: Farhan\n",
      "Course: Information Technology\n",
      "Updated Student: {'name': 'Farhan', 'age': 23, 'course': 'Information Technology', 'grade': 'A'}\n"
     ]
    }
   ],
   "source": [
    "student = {\n",
    "    \"name\": \"Farhan\",\n",
    "    \"age\": 22,\n",
    "    \"course\": \"Information Technology\"\n",
    "}\n",
    "\n",
    "print(student)\n",
    "print(\"Name:\", student[\"name\"])\n",
    "print(\"Course:\", student.get(\"course\"))\n",
    "\n",
    "# Updating values\n",
    "student[\"age\"] = 23\n",
    "student[\"grade\"] = \"A\"\n",
    "print(\"Updated Student:\", student)"
   ]
  },
  {
   "cell_type": "markdown",
   "id": "3ed30edc-0e40-4de4-ada9-2f5a7eab535a",
   "metadata": {},
   "source": [
    "# 🔹 4. Loops in Python\n",
    "\n",
    "Loops let us repeat tasks easily."
   ]
  },
  {
   "cell_type": "code",
   "execution_count": 4,
   "id": "b3ba313c-1f43-4cf9-92e1-69b9dbd5cfdc",
   "metadata": {},
   "outputs": [
    {
     "name": "stdout",
     "output_type": "stream",
     "text": [
      "Square of 1 = 1\n",
      "Square of 2 = 4\n",
      "Square of 3 = 9\n",
      "Square of 4 = 16\n",
      "Square of 5 = 25\n",
      "Count: 1\n",
      "Count: 2\n",
      "Count: 3\n"
     ]
    }
   ],
   "source": [
    "# For loop\n",
    "for i in range(1, 6):\n",
    "    print(\"Square of\", i, \"=\", i**2)\n",
    "\n",
    "# While loop\n",
    "count = 1\n",
    "while count <= 3:\n",
    "    print(\"Count:\", count)\n",
    "    count += 1"
   ]
  },
  {
   "cell_type": "markdown",
   "id": "0971ecc3-06cf-4996-827c-1245dea16ef3",
   "metadata": {},
   "source": [
    "# 🔹 5. Functions\n",
    "\n",
    "Functions help write reusable code."
   ]
  },
  {
   "cell_type": "code",
   "execution_count": 5,
   "id": "44701f94-0afb-4d74-9356-ae091a06de15",
   "metadata": {},
   "outputs": [
    {
     "name": "stdout",
     "output_type": "stream",
     "text": [
      "Hello Farhan, welcome to Data Science!\n",
      "Hello Samiya, welcome to Data Science!\n",
      "Add(5): 15\n",
      "Add(5, 20): 25\n"
     ]
    }
   ],
   "source": [
    "def greet(name):\n",
    "    return f\"Hello {name}, welcome to Data Science!\"\n",
    "\n",
    "print(greet(\"Farhan\"))\n",
    "print(greet(\"Samiya\"))\n",
    "\n",
    "# Function with default parameter\n",
    "def add(a, b=10):\n",
    "    return a + b\n",
    "\n",
    "print(\"Add(5):\", add(5))\n",
    "print(\"Add(5, 20):\", add(5, 20))"
   ]
  },
  {
   "cell_type": "markdown",
   "id": "84b11345-6289-4a70-b38d-fa1a52e91ad3",
   "metadata": {},
   "source": [
    "# ✅ Summary (Day 1):\n",
    "\n",
    "Learned Python basics: lists, dicts, loops, and functions\n",
    "Practiced simple examples to build foundation for data manipulation"
   ]
  },
  {
   "cell_type": "code",
   "execution_count": null,
   "id": "4207e562-defb-4eb7-b805-c259364d15a9",
   "metadata": {},
   "outputs": [],
   "source": []
  }
 ],
 "metadata": {
  "kernelspec": {
   "display_name": "Python 3 (ipykernel)",
   "language": "python",
   "name": "python3"
  },
  "language_info": {
   "codemirror_mode": {
    "name": "ipython",
    "version": 3
   },
   "file_extension": ".py",
   "mimetype": "text/x-python",
   "name": "python",
   "nbconvert_exporter": "python",
   "pygments_lexer": "ipython3",
   "version": "3.13.5"
  }
 },
 "nbformat": 4,
 "nbformat_minor": 5
}
