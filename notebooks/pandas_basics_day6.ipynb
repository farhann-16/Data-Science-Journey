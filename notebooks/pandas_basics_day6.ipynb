{
 "cells": [
  {
   "cell_type": "markdown",
   "id": "45fef2b7-3087-4ff4-9a1e-2dcf59da697e",
   "metadata": {},
   "source": [
    "# 🐼 Pandas Basics – Day 6\n",
    "**Goal:** Practice grouping, aggregation, sorting, merging, and basic descriptive statistics with Pandas.  "
   ]
  },
  {
   "cell_type": "markdown",
   "id": "c35456c1-0e13-49cb-bb0c-681d19cfb1bf",
   "metadata": {},
   "source": [
    "# 1. Sample Dataset"
   ]
  },
  {
   "cell_type": "code",
   "execution_count": 1,
   "id": "169dabd7-e685-451b-b1c6-e50ecaec1951",
   "metadata": {},
   "outputs": [
    {
     "name": "stdout",
     "output_type": "stream",
     "text": [
      "  Department Employee  Salary\n",
      "0         IT  Zeeshan   50000\n",
      "1         HR   Samiya   60000\n",
      "2    Finance    Riyaz   55000\n",
      "3         IT   Farhan   52000\n",
      "4         HR   Khuhsi   58000\n",
      "5    Finance  Urvashi   61000\n"
     ]
    }
   ],
   "source": [
    "import pandas as pd\n",
    "\n",
    "data = {\n",
    "    \"Department\": [\"IT\", \"HR\", \"Finance\", \"IT\", \"HR\", \"Finance\"],\n",
    "    \"Employee\": [\"Zeeshan\", \"Samiya\", \"Riyaz\", \"Farhan\", \"Khuhsi\", \"Urvashi\"],\n",
    "    \"Salary\": [50000, 60000, 55000, 52000, 58000, 61000]\n",
    "}\n",
    "\n",
    "df = pd.DataFrame(data)\n",
    "print(df)"
   ]
  },
  {
   "cell_type": "markdown",
   "id": "cdbf940e-0a01-4154-af80-9f11301b7b63",
   "metadata": {},
   "source": [
    "# 2. Sorting Data"
   ]
  },
  {
   "cell_type": "code",
   "execution_count": 2,
   "id": "4a62714c-560b-424c-b1fc-df32d4aafe84",
   "metadata": {},
   "outputs": [
    {
     "name": "stdout",
     "output_type": "stream",
     "text": [
      "Sort by Salary:\n",
      "   Department Employee  Salary\n",
      "5    Finance  Urvashi   61000\n",
      "1         HR   Samiya   60000\n",
      "4         HR   Khuhsi   58000\n",
      "2    Finance    Riyaz   55000\n",
      "3         IT   Farhan   52000\n",
      "0         IT  Zeeshan   50000\n"
     ]
    }
   ],
   "source": [
    "print(\"Sort by Salary:\\n\", df.sort_values(\"Salary\", ascending=False))"
   ]
  },
  {
   "cell_type": "markdown",
   "id": "658a107e-2bd3-4238-8163-9615b257b99b",
   "metadata": {},
   "source": [
    "# 3. GroupBy & Aggregation"
   ]
  },
  {
   "cell_type": "code",
   "execution_count": 3,
   "id": "f1c5a4af-1a85-4170-9013-7d3deb467f5e",
   "metadata": {},
   "outputs": [
    {
     "name": "stdout",
     "output_type": "stream",
     "text": [
      "Average Salary by Dept:\n",
      " Department\n",
      "Finance    58000.0\n",
      "HR         59000.0\n",
      "IT         51000.0\n",
      "Name: Salary, dtype: float64\n",
      "Aggregated Salary Stats:\n",
      "                mean    max    min\n",
      "Department                       \n",
      "Finance     58000.0  61000  55000\n",
      "HR          59000.0  60000  58000\n",
      "IT          51000.0  52000  50000\n"
     ]
    }
   ],
   "source": [
    "# Average salary by department\n",
    "avg_salary = df.groupby(\"Department\")[\"Salary\"].mean()\n",
    "print(\"Average Salary by Dept:\\n\", avg_salary)\n",
    "\n",
    "# Multiple aggregations\n",
    "agg_salary = df.groupby(\"Department\")[\"Salary\"].agg([\"mean\", \"max\", \"min\"])\n",
    "print(\"Aggregated Salary Stats:\\n\", agg_salary)"
   ]
  },
  {
   "cell_type": "markdown",
   "id": "4d492d87-e0a9-4291-9423-a9046c86004a",
   "metadata": {},
   "source": [
    "# 4. Adding New Columns"
   ]
  },
  {
   "cell_type": "code",
   "execution_count": 4,
   "id": "465a9f8c-0179-4de6-92d2-0b3aa8a57a73",
   "metadata": {},
   "outputs": [
    {
     "name": "stdout",
     "output_type": "stream",
     "text": [
      "  Department Employee  Salary   Bonus\n",
      "0         IT  Zeeshan   50000  5000.0\n",
      "1         HR   Samiya   60000  6000.0\n",
      "2    Finance    Riyaz   55000  5500.0\n",
      "3         IT   Farhan   52000  5200.0\n",
      "4         HR   Khuhsi   58000  5800.0\n",
      "5    Finance  Urvashi   61000  6100.0\n"
     ]
    }
   ],
   "source": [
    "# Add bonus (10% of salary)\n",
    "df[\"Bonus\"] = df[\"Salary\"] * 0.1\n",
    "print(df)"
   ]
  },
  {
   "cell_type": "markdown",
   "id": "b78524cf-0778-4e69-a84a-4e3287bd060c",
   "metadata": {},
   "source": [
    "# 5. Merging DataFrames"
   ]
  },
  {
   "cell_type": "code",
   "execution_count": 5,
   "id": "41ce2d7d-cead-41be-8d36-4dc5a2f6d214",
   "metadata": {},
   "outputs": [
    {
     "name": "stdout",
     "output_type": "stream",
     "text": [
      "Merged DataFrame:\n",
      "   Department Employee  Salary   Bonus Manager\n",
      "0         IT  Zeeshan   50000  5000.0   Yasin\n",
      "1         HR   Samiya   60000  6000.0   Dhruv\n",
      "2    Finance    Riyaz   55000  5500.0  Sparsh\n",
      "3         IT   Farhan   52000  5200.0   Yasin\n",
      "4         HR   Khuhsi   58000  5800.0   Dhruv\n",
      "5    Finance  Urvashi   61000  6100.0  Sparsh\n"
     ]
    }
   ],
   "source": [
    "dept_info = pd.DataFrame({\n",
    "    \"Department\": [\"IT\", \"HR\", \"Finance\"],\n",
    "    \"Manager\": [\"Yasin\", \"Dhruv\", \"Sparsh\"]\n",
    "})\n",
    "\n",
    "merged = pd.merge(df, dept_info, on=\"Department\")\n",
    "print(\"Merged DataFrame:\\n\", merged)"
   ]
  },
  {
   "cell_type": "markdown",
   "id": "8c7af9ce-68c6-498a-89f6-43847873fa98",
   "metadata": {},
   "source": [
    "# 6. Descriptive Statistics"
   ]
  },
  {
   "cell_type": "code",
   "execution_count": 6,
   "id": "6d83d3fb-c33d-4606-b42b-fbbd473885fc",
   "metadata": {},
   "outputs": [
    {
     "name": "stdout",
     "output_type": "stream",
     "text": [
      "Describe:\n",
      " count        6.000000\n",
      "mean     56000.000000\n",
      "std       4427.188724\n",
      "min      50000.000000\n",
      "25%      52750.000000\n",
      "50%      56500.000000\n",
      "75%      59500.000000\n",
      "max      61000.000000\n",
      "Name: Salary, dtype: float64\n"
     ]
    }
   ],
   "source": [
    "print(\"Describe:\\n\", df[\"Salary\"].describe())"
   ]
  },
  {
   "cell_type": "markdown",
   "id": "417bdc9e-c2a1-405b-8b15-6804eecf9203",
   "metadata": {},
   "source": [
    "# ✅ Summary (Day 6):\n",
    "\n",
    "- Practiced sorting, grouping, and aggregating data\n",
    "- Learned to add new columns and merge DataFrames\n",
    "- Used descriptive statistics for insights"
   ]
  },
  {
   "cell_type": "code",
   "execution_count": null,
   "id": "3b11b041-9579-4050-a361-e6d86909817a",
   "metadata": {},
   "outputs": [],
   "source": []
  }
 ],
 "metadata": {
  "kernelspec": {
   "display_name": "Python 3 (ipykernel)",
   "language": "python",
   "name": "python3"
  },
  "language_info": {
   "codemirror_mode": {
    "name": "ipython",
    "version": 3
   },
   "file_extension": ".py",
   "mimetype": "text/x-python",
   "name": "python",
   "nbconvert_exporter": "python",
   "pygments_lexer": "ipython3",
   "version": "3.13.5"
  }
 },
 "nbformat": 4,
 "nbformat_minor": 5
}
