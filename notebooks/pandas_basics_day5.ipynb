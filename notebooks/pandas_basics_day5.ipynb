{
 "cells": [
  {
   "cell_type": "markdown",
   "id": "0a14fe38-7341-4966-9342-d46e2c5638d4",
   "metadata": {},
   "source": [
    "# 🐼 Pandas Basics – Day 5\n",
    "**Goal:** Learn how to use Pandas for data manipulation – creating DataFrames, reading CSVs, exploring data, and basic operations.  "
   ]
  },
  {
   "cell_type": "markdown",
   "id": "60328aba-a300-4fa3-8575-e14339fff491",
   "metadata": {},
   "source": [
    "# 1. Importing Pandas"
   ]
  },
  {
   "cell_type": "code",
   "execution_count": 1,
   "id": "8825cd0c-0177-4eb3-be82-1ea33cd73c98",
   "metadata": {},
   "outputs": [
    {
     "name": "stdout",
     "output_type": "stream",
     "text": [
      "Pandas version: 2.2.3\n"
     ]
    }
   ],
   "source": [
    "import pandas as pd\n",
    "print(\"Pandas version:\", pd.__version__)"
   ]
  },
  {
   "cell_type": "markdown",
   "id": "39453408-49c6-4ad6-b375-396dcfabd35b",
   "metadata": {},
   "source": [
    "# 2. Creating a DataFrame"
   ]
  },
  {
   "cell_type": "code",
   "execution_count": 4,
   "id": "98ee912c-ef2b-45a5-97e1-eea6ceed91cf",
   "metadata": {},
   "outputs": [
    {
     "name": "stdout",
     "output_type": "stream",
     "text": [
      "      Name  Age  Marks\n",
      "0  Zeeshan   23     85\n",
      "1   Samiya   25     90\n",
      "2   Farhan   22     78\n",
      "3    Riyaz   24     88\n"
     ]
    }
   ],
   "source": [
    "data = {\n",
    "    \"Name\": [\"Zeeshan\", \"Samiya\", \"Farhan\", \"Riyaz\"],\n",
    "    \"Age\": [23, 25, 22, 24],\n",
    "    \"Marks\": [85, 90, 78, 88]\n",
    "}\n",
    "\n",
    "df = pd.DataFrame(data)\n",
    "print(df)"
   ]
  },
  {
   "cell_type": "markdown",
   "id": "61b3f3e8-73fc-4120-a13b-991a2d23c45d",
   "metadata": {},
   "source": [
    "# 3. Reading from CSV"
   ]
  },
  {
   "cell_type": "code",
   "execution_count": 6,
   "id": "1a619580-abcd-4677-ade4-6dbad7251d6b",
   "metadata": {},
   "outputs": [
    {
     "name": "stdout",
     "output_type": "stream",
     "text": [
      "Columns: Index(['Name', 'Age', 'Marks'], dtype='object')\n",
      "Shape: (4, 3)\n",
      "Head:\n",
      "       Name  Age  Marks\n",
      "0  Zeeshan   23     85\n",
      "1   Samiya   25     90\n",
      "2   Farhan   22     78\n",
      "3    Riyaz   24     88\n",
      "Info:\n",
      "<class 'pandas.core.frame.DataFrame'>\n",
      "RangeIndex: 4 entries, 0 to 3\n",
      "Data columns (total 3 columns):\n",
      " #   Column  Non-Null Count  Dtype \n",
      "---  ------  --------------  ----- \n",
      " 0   Name    4 non-null      object\n",
      " 1   Age     4 non-null      int64 \n",
      " 2   Marks   4 non-null      int64 \n",
      "dtypes: int64(2), object(1)\n",
      "memory usage: 228.0+ bytes\n",
      "None\n"
     ]
    }
   ],
   "source": [
    "# For demo: using the DataFrame we already created\n",
    "print(\"Columns:\", df.columns)\n",
    "print(\"Shape:\", df.shape)\n",
    "print(\"Head:\\n\", df.head())\n",
    "print(\"Info:\")\n",
    "print(df.info())\n"
   ]
  },
  {
   "cell_type": "markdown",
   "id": "2eb7ad64-ef01-46c6-aaeb-bbf365643fa6",
   "metadata": {},
   "source": [
    "# 4. Selecting Data"
   ]
  },
  {
   "cell_type": "code",
   "execution_count": 7,
   "id": "026a370d-7f6d-4525-8d1f-236d9cca2ddb",
   "metadata": {},
   "outputs": [
    {
     "name": "stdout",
     "output_type": "stream",
     "text": [
      "Names:\n",
      " 0    Zeeshan\n",
      "1     Samiya\n",
      "2     Farhan\n",
      "3      Riyaz\n",
      "Name: Name, dtype: object\n",
      "Marks:\n",
      "       Name  Marks\n",
      "0  Zeeshan     85\n",
      "1   Samiya     90\n",
      "2   Farhan     78\n",
      "3    Riyaz     88\n",
      "First two rows:\n",
      "       Name  Age  Marks\n",
      "0  Zeeshan   23     85\n",
      "1   Samiya   25     90\n",
      "Using iloc (row 0):\n",
      " Name     Zeeshan\n",
      "Age           23\n",
      "Marks         85\n",
      "Name: 0, dtype: object\n",
      "Using loc (Sara):\n",
      " Name     Samiya\n",
      "Age          25\n",
      "Marks        90\n",
      "Name: 1, dtype: object\n"
     ]
    }
   ],
   "source": [
    "# Selecting columns\n",
    "print(\"Names:\\n\", df[\"Name\"])\n",
    "print(\"Marks:\\n\", df[[\"Name\", \"Marks\"]])\n",
    "\n",
    "# Selecting rows\n",
    "print(\"First two rows:\\n\", df.head(2))\n",
    "print(\"Using iloc (row 0):\\n\", df.iloc[0])\n",
    "print(\"Using loc (Sara):\\n\", df.loc[1])"
   ]
  },
  {
   "cell_type": "markdown",
   "id": "fc529366-d471-4990-b5ab-8e89df7a18bf",
   "metadata": {},
   "source": [
    "# 5. Filtering Data"
   ]
  },
  {
   "cell_type": "code",
   "execution_count": 8,
   "id": "87225fb8-2022-404a-a97c-33f8c2210fbd",
   "metadata": {},
   "outputs": [
    {
     "name": "stdout",
     "output_type": "stream",
     "text": [
      "Students with marks > 80:\n",
      "       Name  Age  Marks\n",
      "0  Zeeshan   23     85\n",
      "1   Samiya   25     90\n",
      "3    Riyaz   24     88\n",
      "Young students with high marks:\n",
      "       Name  Age  Marks\n",
      "0  Zeeshan   23     85\n"
     ]
    }
   ],
   "source": [
    "# Filter by condition\n",
    "high_scorers = df[df[\"Marks\"] > 80]\n",
    "print(\"Students with marks > 80:\\n\", high_scorers)\n",
    "\n",
    "# Multiple conditions\n",
    "young_high = df[(df[\"Marks\"] > 80) & (df[\"Age\"] < 24)]\n",
    "print(\"Young students with high marks:\\n\", young_high)"
   ]
  },
  {
   "cell_type": "markdown",
   "id": "ccc4c218-9aef-4d61-82ee-8e6df353426a",
   "metadata": {},
   "source": [
    "# ✅ Summary (Day 5):\n",
    "\n",
    "- Learned to create DataFrames\n",
    "- Explored data (shape, head, info)\n",
    "- Selected rows & columns\n",
    "- Filtered data with conditions"
   ]
  },
  {
   "cell_type": "code",
   "execution_count": null,
   "id": "ef4bd081-e0e9-41df-8d3f-77b54e852367",
   "metadata": {},
   "outputs": [],
   "source": []
  }
 ],
 "metadata": {
  "kernelspec": {
   "display_name": "Python 3 (ipykernel)",
   "language": "python",
   "name": "python3"
  },
  "language_info": {
   "codemirror_mode": {
    "name": "ipython",
    "version": 3
   },
   "file_extension": ".py",
   "mimetype": "text/x-python",
   "name": "python",
   "nbconvert_exporter": "python",
   "pygments_lexer": "ipython3",
   "version": "3.13.5"
  }
 },
 "nbformat": 4,
 "nbformat_minor": 5
}
