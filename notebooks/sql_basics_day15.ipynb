{
 "cells": [
  {
   "cell_type": "markdown",
   "id": "c3044011-c0f1-4bc9-803b-2d991f288af5",
   "metadata": {},
   "source": [
    "# 🗄️ SQL Basics with SQLite (Day 15 – Part 1)\n",
    "\n",
    "**Goal:**  \n",
    "Learn the foundations of SQL using SQLite inside Python:  \n",
    "- Creating tables  \n",
    "- Inserting records  \n",
    "- Running basic SELECT queries  "
   ]
  },
  {
   "cell_type": "markdown",
   "id": "7fd43890-7fe7-4b5c-8295-92380c2fd059",
   "metadata": {},
   "source": [
    "# 1. Import SQLite"
   ]
  },
  {
   "cell_type": "code",
   "execution_count": 7,
   "id": "ad415ae3-1bfc-4266-82f0-4ced66c7efd3",
   "metadata": {},
   "outputs": [],
   "source": [
    "import sqlite3\n",
    "import pandas as pd\n",
    "\n",
    "# Create in-memory database\n",
    "conn = sqlite3.connect(\":memory:\")\n",
    "cursor = conn.cursor()"
   ]
  },
  {
   "cell_type": "markdown",
   "id": "bba4bc56-774e-46a1-a11e-b20b133a832f",
   "metadata": {},
   "source": [
    "# 2. Create Tables"
   ]
  },
  {
   "cell_type": "code",
   "execution_count": 8,
   "id": "74ae2cf1-f8cf-48e2-8aac-b8bc8dc58d07",
   "metadata": {},
   "outputs": [
    {
     "data": {
      "text/plain": [
       "<sqlite3.Cursor at 0x2416c03cac0>"
      ]
     },
     "execution_count": 8,
     "metadata": {},
     "output_type": "execute_result"
    }
   ],
   "source": [
    "cursor.execute(\"\"\"\n",
    "CREATE TABLE students (\n",
    "    student_id INTEGER PRIMARY KEY,\n",
    "    name TEXT,\n",
    "    age INTEGER,\n",
    "    major TEXT\n",
    ")\n",
    "\"\"\")\n",
    "\n",
    "cursor.execute(\"\"\"\n",
    "CREATE TABLE courses (\n",
    "    course_id INTEGER PRIMARY KEY,\n",
    "    course_name TEXT,\n",
    "    credits INTEGER\n",
    ")\n",
    "\"\"\")"
   ]
  },
  {
   "cell_type": "markdown",
   "id": "9ca96256-82ba-4200-977e-b5142f50194a",
   "metadata": {},
   "source": [
    "# 3. Insert Data"
   ]
  },
  {
   "cell_type": "code",
   "execution_count": 9,
   "id": "b5b8cbed-e085-44ef-bdae-e8009e74f49f",
   "metadata": {},
   "outputs": [],
   "source": [
    "students_data = [\n",
    "    (1, \"Zeeshan\", 21, \"Computer Science\"),\n",
    "    (2, \"Samiya\", 22, \"Information Tech\"),\n",
    "    (3, \"Farhan\", 20, \"Mathematics\"),\n",
    "    (4, \"Meera\", 23, \"Statistics\")\n",
    "]\n",
    "\n",
    "courses_data = [\n",
    "    (101, \"Database Systems\", 3),\n",
    "    (102, \"Machine Learning\", 4),\n",
    "    (103, \"Probability & Stats\", 3)\n",
    "]\n",
    "\n",
    "cursor.executemany(\"INSERT INTO students VALUES (?, ?, ?, ?)\", students_data)\n",
    "cursor.executemany(\"INSERT INTO courses VALUES (?, ?, ?)\", courses_data)\n",
    "conn.commit()"
   ]
  },
  {
   "cell_type": "markdown",
   "id": "75c5f813-fe1d-4ce3-976f-ecc88fbb46ef",
   "metadata": {},
   "source": [
    "# 4. Run Basic SELECT Queries"
   ]
  },
  {
   "cell_type": "code",
   "execution_count": 12,
   "id": "3198e4e2-9ac7-4537-9b39-b69ae81bdcb5",
   "metadata": {},
   "outputs": [
    {
     "data": {
      "text/html": [
       "<div>\n",
       "<style scoped>\n",
       "    .dataframe tbody tr th:only-of-type {\n",
       "        vertical-align: middle;\n",
       "    }\n",
       "\n",
       "    .dataframe tbody tr th {\n",
       "        vertical-align: top;\n",
       "    }\n",
       "\n",
       "    .dataframe thead th {\n",
       "        text-align: right;\n",
       "    }\n",
       "</style>\n",
       "<table border=\"1\" class=\"dataframe\">\n",
       "  <thead>\n",
       "    <tr style=\"text-align: right;\">\n",
       "      <th></th>\n",
       "      <th>student_id</th>\n",
       "      <th>name</th>\n",
       "      <th>age</th>\n",
       "      <th>major</th>\n",
       "    </tr>\n",
       "  </thead>\n",
       "  <tbody>\n",
       "    <tr>\n",
       "      <th>0</th>\n",
       "      <td>1</td>\n",
       "      <td>Zeeshan</td>\n",
       "      <td>21</td>\n",
       "      <td>Computer Science</td>\n",
       "    </tr>\n",
       "    <tr>\n",
       "      <th>1</th>\n",
       "      <td>2</td>\n",
       "      <td>Samiya</td>\n",
       "      <td>22</td>\n",
       "      <td>Information Tech</td>\n",
       "    </tr>\n",
       "    <tr>\n",
       "      <th>2</th>\n",
       "      <td>3</td>\n",
       "      <td>Farhan</td>\n",
       "      <td>20</td>\n",
       "      <td>Mathematics</td>\n",
       "    </tr>\n",
       "    <tr>\n",
       "      <th>3</th>\n",
       "      <td>4</td>\n",
       "      <td>Meera</td>\n",
       "      <td>23</td>\n",
       "      <td>Statistics</td>\n",
       "    </tr>\n",
       "  </tbody>\n",
       "</table>\n",
       "</div>"
      ],
      "text/plain": [
       "   student_id     name  age             major\n",
       "0           1  Zeeshan   21  Computer Science\n",
       "1           2   Samiya   22  Information Tech\n",
       "2           3   Farhan   20       Mathematics\n",
       "3           4    Meera   23        Statistics"
      ]
     },
     "execution_count": 12,
     "metadata": {},
     "output_type": "execute_result"
    }
   ],
   "source": [
    "df_students = pd.read_sql(\"SELECT * FROM students\", conn)\n",
    "df_students"
   ]
  },
  {
   "cell_type": "code",
   "execution_count": 13,
   "id": "aa807d3d-0201-4ed8-bde7-ab40c6daee82",
   "metadata": {},
   "outputs": [
    {
     "data": {
      "text/html": [
       "<div>\n",
       "<style scoped>\n",
       "    .dataframe tbody tr th:only-of-type {\n",
       "        vertical-align: middle;\n",
       "    }\n",
       "\n",
       "    .dataframe tbody tr th {\n",
       "        vertical-align: top;\n",
       "    }\n",
       "\n",
       "    .dataframe thead th {\n",
       "        text-align: right;\n",
       "    }\n",
       "</style>\n",
       "<table border=\"1\" class=\"dataframe\">\n",
       "  <thead>\n",
       "    <tr style=\"text-align: right;\">\n",
       "      <th></th>\n",
       "      <th>course_id</th>\n",
       "      <th>course_name</th>\n",
       "      <th>credits</th>\n",
       "    </tr>\n",
       "  </thead>\n",
       "  <tbody>\n",
       "    <tr>\n",
       "      <th>0</th>\n",
       "      <td>101</td>\n",
       "      <td>Database Systems</td>\n",
       "      <td>3</td>\n",
       "    </tr>\n",
       "    <tr>\n",
       "      <th>1</th>\n",
       "      <td>102</td>\n",
       "      <td>Machine Learning</td>\n",
       "      <td>4</td>\n",
       "    </tr>\n",
       "    <tr>\n",
       "      <th>2</th>\n",
       "      <td>103</td>\n",
       "      <td>Probability &amp; Stats</td>\n",
       "      <td>3</td>\n",
       "    </tr>\n",
       "  </tbody>\n",
       "</table>\n",
       "</div>"
      ],
      "text/plain": [
       "   course_id          course_name  credits\n",
       "0        101     Database Systems        3\n",
       "1        102     Machine Learning        4\n",
       "2        103  Probability & Stats        3"
      ]
     },
     "execution_count": 13,
     "metadata": {},
     "output_type": "execute_result"
    }
   ],
   "source": [
    "df_courses = pd.read_sql(\"SELECT * FROM courses\", conn)\n",
    "df_courses"
   ]
  },
  {
   "cell_type": "code",
   "execution_count": 14,
   "id": "7ac4a672-f80e-48a9-b821-466a7dfd66ab",
   "metadata": {},
   "outputs": [
    {
     "data": {
      "text/html": [
       "<div>\n",
       "<style scoped>\n",
       "    .dataframe tbody tr th:only-of-type {\n",
       "        vertical-align: middle;\n",
       "    }\n",
       "\n",
       "    .dataframe tbody tr th {\n",
       "        vertical-align: top;\n",
       "    }\n",
       "\n",
       "    .dataframe thead th {\n",
       "        text-align: right;\n",
       "    }\n",
       "</style>\n",
       "<table border=\"1\" class=\"dataframe\">\n",
       "  <thead>\n",
       "    <tr style=\"text-align: right;\">\n",
       "      <th></th>\n",
       "      <th>name</th>\n",
       "      <th>major</th>\n",
       "    </tr>\n",
       "  </thead>\n",
       "  <tbody>\n",
       "    <tr>\n",
       "      <th>0</th>\n",
       "      <td>Zeeshan</td>\n",
       "      <td>Computer Science</td>\n",
       "    </tr>\n",
       "    <tr>\n",
       "      <th>1</th>\n",
       "      <td>Samiya</td>\n",
       "      <td>Information Tech</td>\n",
       "    </tr>\n",
       "    <tr>\n",
       "      <th>2</th>\n",
       "      <td>Farhan</td>\n",
       "      <td>Mathematics</td>\n",
       "    </tr>\n",
       "    <tr>\n",
       "      <th>3</th>\n",
       "      <td>Meera</td>\n",
       "      <td>Statistics</td>\n",
       "    </tr>\n",
       "  </tbody>\n",
       "</table>\n",
       "</div>"
      ],
      "text/plain": [
       "      name             major\n",
       "0  Zeeshan  Computer Science\n",
       "1   Samiya  Information Tech\n",
       "2   Farhan       Mathematics\n",
       "3    Meera        Statistics"
      ]
     },
     "execution_count": 14,
     "metadata": {},
     "output_type": "execute_result"
    }
   ],
   "source": [
    "pd.read_sql(\"SELECT name, major FROM students\", conn)"
   ]
  },
  {
   "cell_type": "markdown",
   "id": "d3c0d844-96b4-48d2-838c-87654dc227b1",
   "metadata": {},
   "source": [
    "# 5. WHERE Clause"
   ]
  },
  {
   "cell_type": "code",
   "execution_count": 15,
   "id": "9d21f079-11e4-475c-9bc4-a9336393ffdd",
   "metadata": {},
   "outputs": [
    {
     "data": {
      "text/html": [
       "<div>\n",
       "<style scoped>\n",
       "    .dataframe tbody tr th:only-of-type {\n",
       "        vertical-align: middle;\n",
       "    }\n",
       "\n",
       "    .dataframe tbody tr th {\n",
       "        vertical-align: top;\n",
       "    }\n",
       "\n",
       "    .dataframe thead th {\n",
       "        text-align: right;\n",
       "    }\n",
       "</style>\n",
       "<table border=\"1\" class=\"dataframe\">\n",
       "  <thead>\n",
       "    <tr style=\"text-align: right;\">\n",
       "      <th></th>\n",
       "      <th>student_id</th>\n",
       "      <th>name</th>\n",
       "      <th>age</th>\n",
       "      <th>major</th>\n",
       "    </tr>\n",
       "  </thead>\n",
       "  <tbody>\n",
       "    <tr>\n",
       "      <th>0</th>\n",
       "      <td>2</td>\n",
       "      <td>Samiya</td>\n",
       "      <td>22</td>\n",
       "      <td>Information Tech</td>\n",
       "    </tr>\n",
       "    <tr>\n",
       "      <th>1</th>\n",
       "      <td>4</td>\n",
       "      <td>Meera</td>\n",
       "      <td>23</td>\n",
       "      <td>Statistics</td>\n",
       "    </tr>\n",
       "  </tbody>\n",
       "</table>\n",
       "</div>"
      ],
      "text/plain": [
       "   student_id    name  age             major\n",
       "0           2  Samiya   22  Information Tech\n",
       "1           4   Meera   23        Statistics"
      ]
     },
     "execution_count": 15,
     "metadata": {},
     "output_type": "execute_result"
    }
   ],
   "source": [
    "pd.read_sql(\"SELECT * FROM students WHERE age > 21\", conn)"
   ]
  },
  {
   "cell_type": "markdown",
   "id": "f527854d-aa6f-4cb2-b71c-855f7a476478",
   "metadata": {},
   "source": [
    "# ✅ Summary (Day 15 – Part 1):\n",
    "\n",
    "- Created students and courses tables\n",
    "- Inserted records into both tables\n",
    "- Ran SELECT queries with column selection\n",
    "- Used WHERE for filtering"
   ]
  },
  {
   "cell_type": "code",
   "execution_count": null,
   "id": "208b3a41-daed-4b10-83de-10a89fb63ebf",
   "metadata": {},
   "outputs": [],
   "source": []
  }
 ],
 "metadata": {
  "kernelspec": {
   "display_name": "Python 3 (ipykernel)",
   "language": "python",
   "name": "python3"
  },
  "language_info": {
   "codemirror_mode": {
    "name": "ipython",
    "version": 3
   },
   "file_extension": ".py",
   "mimetype": "text/x-python",
   "name": "python",
   "nbconvert_exporter": "python",
   "pygments_lexer": "ipython3",
   "version": "3.13.5"
  }
 },
 "nbformat": 4,
 "nbformat_minor": 5
}
