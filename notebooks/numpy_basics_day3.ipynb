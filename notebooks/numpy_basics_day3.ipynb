{
 "cells": [
  {
   "cell_type": "markdown",
   "id": "0ab735af-d62d-4140-ad6b-9a9da02df429",
   "metadata": {},
   "source": [
    "# 🔢 NumPy Basics – Day 3\n",
    "**Goal:** Learn fundamentals of NumPy arrays – creation, indexing, slicing, reshaping, and basic operations.  "
   ]
  },
  {
   "cell_type": "markdown",
   "id": "4a731cad-b284-4074-bb34-75016aaff8f5",
   "metadata": {},
   "source": [
    "# 1. Importing NumPy"
   ]
  },
  {
   "cell_type": "code",
   "execution_count": 1,
   "id": "20965961-2eaa-450b-bd3c-eaea03f1d0f9",
   "metadata": {},
   "outputs": [
    {
     "name": "stdout",
     "output_type": "stream",
     "text": [
      "NumPy version: 2.2.5\n"
     ]
    }
   ],
   "source": [
    "import numpy as np\n",
    "print(\"NumPy version:\", np.__version__)"
   ]
  },
  {
   "cell_type": "markdown",
   "id": "62e98f31-a8a7-4d47-a7bf-22ef171f7835",
   "metadata": {},
   "source": [
    "# 2. Creating Arrays"
   ]
  },
  {
   "cell_type": "code",
   "execution_count": 2,
   "id": "da8a8520-9f1c-4713-97dc-59d1712ebbdf",
   "metadata": {},
   "outputs": [
    {
     "name": "stdout",
     "output_type": "stream",
     "text": [
      "Array: [1 2 3 4 5]\n",
      "Matrix:\n",
      " [[1 2 3]\n",
      " [4 5 6]]\n",
      "Zeros:\n",
      " [[0. 0. 0.]\n",
      " [0. 0. 0.]]\n",
      "Ones:\n",
      " [[1. 1. 1.]\n",
      " [1. 1. 1.]\n",
      " [1. 1. 1.]]\n",
      "Arange: [0 2 4 6 8]\n"
     ]
    }
   ],
   "source": [
    "# From Python list\n",
    "arr = np.array([1, 2, 3, 4, 5])\n",
    "print(\"Array:\", arr)\n",
    "\n",
    "# Multi-dimensional\n",
    "matrix = np.array([[1, 2, 3], [4, 5, 6]])\n",
    "print(\"Matrix:\\n\", matrix)\n",
    "\n",
    "# Using built-in functions\n",
    "zeros = np.zeros((2, 3))\n",
    "ones = np.ones((3, 3))\n",
    "arange = np.arange(0, 10, 2)\n",
    "\n",
    "print(\"Zeros:\\n\", zeros)\n",
    "print(\"Ones:\\n\", ones)\n",
    "print(\"Arange:\", arange)"
   ]
  },
  {
   "cell_type": "markdown",
   "id": "a0ab8744-11a5-4335-8509-ebd06f878a98",
   "metadata": {},
   "source": [
    "# 3. Array Attributes"
   ]
  },
  {
   "cell_type": "code",
   "execution_count": 3,
   "id": "e806dcec-86dd-422b-af0a-3bdffccc9510",
   "metadata": {},
   "outputs": [
    {
     "name": "stdout",
     "output_type": "stream",
     "text": [
      "Shape: (2, 3)\n",
      "Dimensions: 2\n",
      "Data type: int64\n",
      "Size (no. of elements): 6\n"
     ]
    }
   ],
   "source": [
    "print(\"Shape:\", matrix.shape)\n",
    "print(\"Dimensions:\", matrix.ndim)\n",
    "print(\"Data type:\", matrix.dtype)\n",
    "print(\"Size (no. of elements):\", matrix.size)"
   ]
  },
  {
   "cell_type": "markdown",
   "id": "5a0dd78b-122b-4713-883c-2962f42a8915",
   "metadata": {},
   "source": [
    "# 4. Indexing & Slicing"
   ]
  },
  {
   "cell_type": "code",
   "execution_count": 4,
   "id": "6178aacf-ec17-4e39-bd20-002c442eedbd",
   "metadata": {},
   "outputs": [
    {
     "name": "stdout",
     "output_type": "stream",
     "text": [
      "First element: 10\n",
      "Last element: 50\n",
      "Slice (1:4): [20 30 40]\n",
      "Second row: [4 5 6]\n",
      "Element (0,2): 3\n"
     ]
    }
   ],
   "source": [
    "arr = np.array([10, 20, 30, 40, 50])\n",
    "\n",
    "print(\"First element:\", arr[0])\n",
    "print(\"Last element:\", arr[-1])\n",
    "print(\"Slice (1:4):\", arr[1:4])\n",
    "\n",
    "matrix = np.array([[1, 2, 3], [4, 5, 6]])\n",
    "print(\"Second row:\", matrix[1])\n",
    "print(\"Element (0,2):\", matrix[0, 2])"
   ]
  },
  {
   "cell_type": "markdown",
   "id": "d1ebe334-0857-4627-999c-a0c5611d6b50",
   "metadata": {},
   "source": [
    "# 5. Reshaping Arrays"
   ]
  },
  {
   "cell_type": "code",
   "execution_count": 5,
   "id": "ee6bf884-c4e7-4b98-ac3e-68628f0ba1db",
   "metadata": {},
   "outputs": [
    {
     "name": "stdout",
     "output_type": "stream",
     "text": [
      "Original: [ 1  2  3  4  5  6  7  8  9 10 11 12]\n",
      "Reshaped (3x4):\n",
      " [[ 1  2  3  4]\n",
      " [ 5  6  7  8]\n",
      " [ 9 10 11 12]]\n",
      "Flattened: [ 1  2  3  4  5  6  7  8  9 10 11 12]\n"
     ]
    }
   ],
   "source": [
    "arr = np.arange(1, 13)  # 1 to 12\n",
    "print(\"Original:\", arr)\n",
    "\n",
    "reshaped = arr.reshape(3, 4)\n",
    "print(\"Reshaped (3x4):\\n\", reshaped)\n",
    "\n",
    "flattened = reshaped.ravel()\n",
    "print(\"Flattened:\", flattened)"
   ]
  },
  {
   "cell_type": "markdown",
   "id": "7b90f100-f387-4a86-a76f-ef42bbc0abd9",
   "metadata": {},
   "source": [
    "# ✅ Summary (Day 3):\n",
    "\n",
    "Learned array creation (zeros, ones, arange)\n",
    "Explored attributes, indexing, slicing\n",
    "Practiced reshaping and flattening arrays"
   ]
  },
  {
   "cell_type": "code",
   "execution_count": null,
   "id": "641d51e3-2f30-48e7-b555-1ce75b5e0b30",
   "metadata": {},
   "outputs": [],
   "source": []
  }
 ],
 "metadata": {
  "kernelspec": {
   "display_name": "Python 3 (ipykernel)",
   "language": "python",
   "name": "python3"
  },
  "language_info": {
   "codemirror_mode": {
    "name": "ipython",
    "version": 3
   },
   "file_extension": ".py",
   "mimetype": "text/x-python",
   "name": "python",
   "nbconvert_exporter": "python",
   "pygments_lexer": "ipython3",
   "version": "3.13.5"
  }
 },
 "nbformat": 4,
 "nbformat_minor": 5
}
