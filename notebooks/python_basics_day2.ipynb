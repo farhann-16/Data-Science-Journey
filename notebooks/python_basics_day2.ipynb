{
 "cells": [
  {
   "cell_type": "markdown",
   "id": "84acbc46-dcfc-49db-9f8c-821f1108518b",
   "metadata": {},
   "source": [
    "# 🐍 Python Fundamentals – Day 2\n",
    "**Goal:** Continue practicing Python basics (more on lists, dicts, functions with parameters, and small exercises)."
   ]
  },
  {
   "cell_type": "markdown",
   "id": "7520ed02-e5e4-4dc9-a87f-856a3add0cec",
   "metadata": {},
   "source": [
    "# 🔹 1. More List Operations"
   ]
  },
  {
   "cell_type": "code",
   "execution_count": 1,
   "id": "5402a3ed-1c5d-4f1e-91ff-24d8f3d6c668",
   "metadata": {},
   "outputs": [
    {
     "name": "stdout",
     "output_type": "stream",
     "text": [
      "After append: ['apple', 'banana', 'cherry', 'orange']\n",
      "After remove: ['apple', 'cherry', 'orange']\n",
      "Sorted: ['apple', 'cherry', 'orange']\n",
      "Fruit: apple\n",
      "Fruit: cherry\n",
      "Fruit: orange\n"
     ]
    }
   ],
   "source": [
    "fruits = [\"apple\", \"banana\", \"cherry\"]\n",
    "\n",
    "# Adding and removing\n",
    "fruits.append(\"orange\")\n",
    "print(\"After append:\", fruits)\n",
    "\n",
    "fruits.remove(\"banana\")\n",
    "print(\"After remove:\", fruits)\n",
    "\n",
    "# Sorting\n",
    "fruits.sort()\n",
    "print(\"Sorted:\", fruits)\n",
    "\n",
    "# Iterating\n",
    "for fruit in fruits:\n",
    "    print(\"Fruit:\", fruit)"
   ]
  },
  {
   "cell_type": "markdown",
   "id": "59b013bf-5373-41fa-a435-996a43b5d81f",
   "metadata": {},
   "source": [
    "# 🔹 2. Nested Data (List of Dicts)"
   ]
  },
  {
   "cell_type": "code",
   "execution_count": 2,
   "id": "a658f927-3022-4661-8daf-b3df34fcefb5",
   "metadata": {},
   "outputs": [
    {
     "name": "stdout",
     "output_type": "stream",
     "text": [
      "Ali scored 85\n",
      "Sara scored 92\n",
      "Farhan scored 78\n"
     ]
    }
   ],
   "source": [
    "students = [\n",
    "    {\"name\": \"Ali\", \"marks\": 85},\n",
    "    {\"name\": \"Sara\", \"marks\": 92},\n",
    "    {\"name\": \"Farhan\", \"marks\": 78},\n",
    "]\n",
    "\n",
    "for s in students:\n",
    "    print(s[\"name\"], \"scored\", s[\"marks\"])\n"
   ]
  },
  {
   "cell_type": "markdown",
   "id": "6cd5788c-81c1-40fa-a9e0-fa284cccb2c8",
   "metadata": {},
   "source": [
    "# 🔹 3. Advanced Loops"
   ]
  },
  {
   "cell_type": "code",
   "execution_count": 3,
   "id": "210dd428-4a48-4e73-bf7f-d2f81722e44f",
   "metadata": {},
   "outputs": [
    {
     "name": "stdout",
     "output_type": "stream",
     "text": [
      "1 is Odd\n",
      "2 is Even\n",
      "3 is Odd\n",
      "4 is Even\n",
      "5 is Odd\n",
      "6 is Even\n",
      "7 is Odd\n",
      "8 is Even\n",
      "9 is Odd\n",
      "10 is Even\n"
     ]
    }
   ],
   "source": [
    "# Loop with conditions\n",
    "for i in range(1, 11):\n",
    "    if i % 2 == 0:\n",
    "        print(i, \"is Even\")\n",
    "    else:\n",
    "        print(i, \"is Odd\")"
   ]
  },
  {
   "cell_type": "markdown",
   "id": "89827813-1463-4eb9-a9e0-90d1c227f7c3",
   "metadata": {},
   "source": [
    "# 🔹 4. Functions with Multiple Arguments"
   ]
  },
  {
   "cell_type": "code",
   "execution_count": 4,
   "id": "66e3f3e0-9df6-40c2-81fe-276d89b4c825",
   "metadata": {},
   "outputs": [
    {
     "name": "stdout",
     "output_type": "stream",
     "text": [
      "Area (5, 10): 50\n",
      "Area (3, 7): 21\n"
     ]
    }
   ],
   "source": [
    "def calculate_area(length, width):\n",
    "    return length * width\n",
    "\n",
    "print(\"Area (5, 10):\", calculate_area(5, 10))\n",
    "print(\"Area (3, 7):\", calculate_area(3, 7))"
   ]
  },
  {
   "cell_type": "markdown",
   "id": "6667eeed-2ee9-4ba3-b6bf-1ba1c1737368",
   "metadata": {},
   "source": [
    "# 🔹 5. Small Practice Exercises"
   ]
  },
  {
   "cell_type": "code",
   "execution_count": 5,
   "id": "69e52377-738f-4758-868b-991df169e3f9",
   "metadata": {},
   "outputs": [
    {
     "name": "stdout",
     "output_type": "stream",
     "text": [
      "Factorial of 5: 120\n",
      "Reverse of 'Data Science': ecneicS ataD\n"
     ]
    }
   ],
   "source": [
    "# Exercise 1: Find factorial of a number\n",
    "def factorial(n):\n",
    "    result = 1\n",
    "    for i in range(1, n+1):\n",
    "        result *= i\n",
    "    return result\n",
    "\n",
    "print(\"Factorial of 5:\", factorial(5))\n",
    "\n",
    "# Exercise 2: Reverse a string\n",
    "def reverse_string(text):\n",
    "    return text[::-1]\n",
    "\n",
    "print(\"Reverse of 'Data Science':\", reverse_string(\"Data Science\"))"
   ]
  },
  {
   "cell_type": "markdown",
   "id": "0092ac55-cdbe-43f8-ab7e-cb57da437dd5",
   "metadata": {},
   "source": [
    "# ✅ Summary (Day 2):\n",
    "\n",
    "Learned list operations, nested data, advanced loops\n",
    "Wrote reusable functions with multiple arguments\n",
    "Practiced mini exercises (factorial, reverse string)"
   ]
  },
  {
   "cell_type": "code",
   "execution_count": null,
   "id": "f098fd38-a291-42cf-a67a-f418001ab3b4",
   "metadata": {},
   "outputs": [],
   "source": []
  }
 ],
 "metadata": {
  "kernelspec": {
   "display_name": "Python 3 (ipykernel)",
   "language": "python",
   "name": "python3"
  },
  "language_info": {
   "codemirror_mode": {
    "name": "ipython",
    "version": 3
   },
   "file_extension": ".py",
   "mimetype": "text/x-python",
   "name": "python",
   "nbconvert_exporter": "python",
   "pygments_lexer": "ipython3",
   "version": "3.13.5"
  }
 },
 "nbformat": 4,
 "nbformat_minor": 5
}
