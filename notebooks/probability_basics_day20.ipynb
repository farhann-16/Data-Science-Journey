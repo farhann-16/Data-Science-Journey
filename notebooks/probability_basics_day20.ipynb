{
 "cells": [
  {
   "cell_type": "markdown",
   "id": "6fc65de4-fc6a-4b65-8ada-69185c108ca5",
   "metadata": {},
   "source": [
    "# 🎲 Probability Basics (Day 20)\n",
    "\n",
    "**Goal:**  \n",
    "Understand the basics of probability using simple Python examples.  \n",
    "We will cover:  \n",
    "- Probability definition  \n",
    "- Sample space & events  \n",
    "- Independent vs Dependent events  \n",
    "- Simple problems with dice & cards "
   ]
  },
  {
   "cell_type": "markdown",
   "id": "a3683f23-e99f-4991-a936-14824ab32188",
   "metadata": {},
   "source": [
    "# 1. Import Libraries"
   ]
  },
  {
   "cell_type": "code",
   "execution_count": 1,
   "id": "05a8631d-b0f3-4d39-b4f9-2524a981532e",
   "metadata": {},
   "outputs": [],
   "source": [
    "import random\n",
    "import itertools"
   ]
  },
  {
   "cell_type": "markdown",
   "id": "128f329c-4072-4d48-99ff-6472164cd82e",
   "metadata": {},
   "source": [
    "# 2. Probability Refresher\n",
    "\n",
    "- 👉 Probability formula:\n",
    "P(E) = (Number of favorable outcomes) / (Total possible outcomes)"
   ]
  },
  {
   "cell_type": "markdown",
   "id": "609dd495-3225-42d5-bf58-7075a6ccf887",
   "metadata": {},
   "source": [
    "# 3. Example 1 – Tossing a Coin"
   ]
  },
  {
   "cell_type": "code",
   "execution_count": 2,
   "id": "157fed14-1852-499b-bc93-dfc178408319",
   "metadata": {},
   "outputs": [
    {
     "name": "stdout",
     "output_type": "stream",
     "text": [
      "P(Heads) = 0.5\n"
     ]
    }
   ],
   "source": [
    "outcomes = [\"H\", \"T\"]\n",
    "favorable = [\"H\"]   # probability of heads\n",
    "P_heads = len(favorable) / len(outcomes)\n",
    "print(\"P(Heads) =\", P_heads)"
   ]
  },
  {
   "cell_type": "markdown",
   "id": "c561ac28-dd00-4614-a1bd-41e3cd5180cf",
   "metadata": {},
   "source": [
    "# 4. Example 2 – Rolling a Dice 🎲"
   ]
  },
  {
   "cell_type": "code",
   "execution_count": 3,
   "id": "40023aa4-10bf-4368-9366-a29580b110f6",
   "metadata": {},
   "outputs": [
    {
     "name": "stdout",
     "output_type": "stream",
     "text": [
      "P(Even) = 0.5\n"
     ]
    }
   ],
   "source": [
    "outcomes = [1,2,3,4,5,6]\n",
    "favorable = [2,4,6]\n",
    "P_even = len(favorable) / len(outcomes)\n",
    "print(\"P(Even) =\", P_even)"
   ]
  },
  {
   "cell_type": "markdown",
   "id": "8344a0e3-ff04-4252-bb0d-6454d30ce5bc",
   "metadata": {},
   "source": [
    "# 5. Example 3 – Drawing a Card (Red Card or Queen)"
   ]
  },
  {
   "cell_type": "code",
   "execution_count": 4,
   "id": "8b70cac1-e554-4dcd-a2b9-f30bbc5a6565",
   "metadata": {},
   "outputs": [
    {
     "name": "stdout",
     "output_type": "stream",
     "text": [
      "P(Red OR Queen) = 0.5384615384615384\n"
     ]
    }
   ],
   "source": [
    "total_cards = 52\n",
    "red_cards = 26\n",
    "queens = 4\n",
    "red_queens = 2\n",
    "\n",
    "P_event = (red_cards + queens - red_queens) / total_cards\n",
    "print(\"P(Red OR Queen) =\", P_event)"
   ]
  },
  {
   "cell_type": "markdown",
   "id": "9b7a2fd6-a4e7-4c29-9b59-6a2e7d688cda",
   "metadata": {},
   "source": [
    "# 6. Independent vs Dependent Events"
   ]
  },
  {
   "cell_type": "code",
   "execution_count": 6,
   "id": "c43967a9-fa06-4496-8df9-6d2ba767a694",
   "metadata": {},
   "outputs": [
    {
     "name": "stdout",
     "output_type": "stream",
     "text": [
      "P(Heads & Heads) = 0.25\n",
      "P(Two Aces without replacement) = 0.004524886877828055\n"
     ]
    }
   ],
   "source": [
    "# Independent: probability of HH\n",
    "P_HH = 0.5 * 0.5\n",
    "print(\"P(Heads & Heads) =\", P_HH)\n",
    "\n",
    "# Dependent: probability of drawing 2 aces without replacement\n",
    "P_first_ace = 4/52\n",
    "P_second_ace = 3/51\n",
    "P_two_aces = P_first_ace * P_second_ace\n",
    "print(\"P(Two Aces without replacement) =\", P_two_aces)"
   ]
  },
  {
   "cell_type": "markdown",
   "id": "61c16868-e07e-40bf-877a-5820759e89cd",
   "metadata": {},
   "source": [
    "# 7. Monte Carlo Simulation (Extra Practice)"
   ]
  },
  {
   "cell_type": "markdown",
   "id": "a7a66fbc-707a-4d73-aef6-881a7013bfb3",
   "metadata": {},
   "source": [
    "# ✅ Summary (Day 20 – Probability Basics):\n",
    "\n",
    "- Defined probability (favorable / total outcomes)\n",
    "- Coin toss, dice, card deck examples\n",
    "- Difference between independent vs dependent events\n",
    "- Simulated probability using Python (Monte Carlo)"
   ]
  },
  {
   "cell_type": "code",
   "execution_count": null,
   "id": "e9372b71-2618-4ba2-b13c-97dc415bbfab",
   "metadata": {},
   "outputs": [],
   "source": []
  }
 ],
 "metadata": {
  "kernelspec": {
   "display_name": "Python 3 (ipykernel)",
   "language": "python",
   "name": "python3"
  },
  "language_info": {
   "codemirror_mode": {
    "name": "ipython",
    "version": 3
   },
   "file_extension": ".py",
   "mimetype": "text/x-python",
   "name": "python",
   "nbconvert_exporter": "python",
   "pygments_lexer": "ipython3",
   "version": "3.13.5"
  }
 },
 "nbformat": 4,
 "nbformat_minor": 5
}
